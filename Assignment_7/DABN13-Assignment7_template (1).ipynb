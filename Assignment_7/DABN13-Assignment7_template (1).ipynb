{
 "cells": [
  {
   "cell_type": "markdown",
   "id": "d2481f2a-2a27-4e04-8b63-b3fdb983ad1c",
   "metadata": {},
   "source": [
    "# DABN13 - Assignment 7"
   ]
  },
  {
   "cell_type": "markdown",
   "id": "38a719f1-96f9-46d1-a6d0-86bc99cebeec",
   "metadata": {},
   "source": [
    "## Part 1: Canned procedures for p-value adjustment\n",
    "In this part we are going to explore which variables are relevant for first run U.S. box office ($) sales, for a set of 62 movies.\n",
    "We have 12 explanatory variables:\n",
    "\n",
    "* MPRating = MPAA Rating code, 1=G, 2=PG, 3=PG13, 4=R,\n",
    "* Budget = Production budget ($Mil),\n",
    "* Starpowr = Index of star poser,\n",
    "* Sequel = 1 if movie is a sequel, 0 if not,\n",
    "* Action = 1 if action film, 0 if not,\n",
    "* Comedy = 1 if comedy film, 0 if not,\n",
    "* Animated = 1 if animated film, 0 if not,\n",
    "* Horror = 1 if horror film, 0 if not,\n",
    "* Addict = Trailer views at traileraddict.com,\n",
    "* Cmngsoon = Message board comments at comingsoon.net,\n",
    "* Fandango = Attention at fandango.com (see Example 4.12),\n",
    "* Cntwait3 = Percentage of Fandango votes that can't wait to see\n",
    "\n"
   ]
  },
  {
   "cell_type": "code",
   "execution_count": 39,
   "id": "de5df485-c2eb-4bfe-8006-3dbff4009c8f",
   "metadata": {},
   "outputs": [],
   "source": [
    "import pandas as pd\n",
    "import statsmodels.api as sm\n",
    "import numpy as np\n",
    "import os\n",
    "\n",
    "#os.chdir(\"change working directory if needed\")\n",
    "\n",
    "movie_data = pd.read_csv(\"movie_buzz.txt\")"
   ]
  },
  {
   "cell_type": "code",
   "execution_count": 40,
   "id": "c048bed2",
   "metadata": {},
   "outputs": [
    {
     "data": {
      "text/html": [
       "<div>\n",
       "<style scoped>\n",
       "    .dataframe tbody tr th:only-of-type {\n",
       "        vertical-align: middle;\n",
       "    }\n",
       "\n",
       "    .dataframe tbody tr th {\n",
       "        vertical-align: top;\n",
       "    }\n",
       "\n",
       "    .dataframe thead th {\n",
       "        text-align: right;\n",
       "    }\n",
       "</style>\n",
       "<table border=\"1\" class=\"dataframe\">\n",
       "  <thead>\n",
       "    <tr style=\"text-align: right;\">\n",
       "      <th></th>\n",
       "      <th>BOX</th>\n",
       "      <th>MPRATING</th>\n",
       "      <th>BUDGET</th>\n",
       "      <th>STARPOWR</th>\n",
       "      <th>SEQUEL</th>\n",
       "      <th>ACTION</th>\n",
       "      <th>COMEDY</th>\n",
       "      <th>ANIMATED</th>\n",
       "      <th>HORROR</th>\n",
       "      <th>ADDICT</th>\n",
       "      <th>CMNGSOON</th>\n",
       "      <th>FANDANGO</th>\n",
       "      <th>CNTWAIT3</th>\n",
       "    </tr>\n",
       "  </thead>\n",
       "  <tbody>\n",
       "    <tr>\n",
       "      <th>0</th>\n",
       "      <td>19167085</td>\n",
       "      <td>4</td>\n",
       "      <td>28.0</td>\n",
       "      <td>19.83</td>\n",
       "      <td>0</td>\n",
       "      <td>0</td>\n",
       "      <td>1</td>\n",
       "      <td>0</td>\n",
       "      <td>0</td>\n",
       "      <td>7860.50</td>\n",
       "      <td>10</td>\n",
       "      <td>144</td>\n",
       "      <td>0.49</td>\n",
       "    </tr>\n",
       "    <tr>\n",
       "      <th>1</th>\n",
       "      <td>63106589</td>\n",
       "      <td>2</td>\n",
       "      <td>150.0</td>\n",
       "      <td>32.69</td>\n",
       "      <td>1</td>\n",
       "      <td>0</td>\n",
       "      <td>0</td>\n",
       "      <td>1</td>\n",
       "      <td>0</td>\n",
       "      <td>5737.00</td>\n",
       "      <td>59</td>\n",
       "      <td>468</td>\n",
       "      <td>0.79</td>\n",
       "    </tr>\n",
       "    <tr>\n",
       "      <th>2</th>\n",
       "      <td>5401605</td>\n",
       "      <td>4</td>\n",
       "      <td>37.4</td>\n",
       "      <td>15.69</td>\n",
       "      <td>0</td>\n",
       "      <td>0</td>\n",
       "      <td>1</td>\n",
       "      <td>0</td>\n",
       "      <td>0</td>\n",
       "      <td>850.00</td>\n",
       "      <td>24</td>\n",
       "      <td>198</td>\n",
       "      <td>0.36</td>\n",
       "    </tr>\n",
       "    <tr>\n",
       "      <th>3</th>\n",
       "      <td>67528882</td>\n",
       "      <td>3</td>\n",
       "      <td>200.0</td>\n",
       "      <td>23.62</td>\n",
       "      <td>1</td>\n",
       "      <td>1</td>\n",
       "      <td>0</td>\n",
       "      <td>0</td>\n",
       "      <td>0</td>\n",
       "      <td>15326.00</td>\n",
       "      <td>93</td>\n",
       "      <td>1778</td>\n",
       "      <td>0.76</td>\n",
       "    </tr>\n",
       "    <tr>\n",
       "      <th>4</th>\n",
       "      <td>26223128</td>\n",
       "      <td>2</td>\n",
       "      <td>150.0</td>\n",
       "      <td>19.02</td>\n",
       "      <td>0</td>\n",
       "      <td>0</td>\n",
       "      <td>0</td>\n",
       "      <td>1</td>\n",
       "      <td>0</td>\n",
       "      <td>4574.25</td>\n",
       "      <td>30</td>\n",
       "      <td>1109</td>\n",
       "      <td>0.53</td>\n",
       "    </tr>\n",
       "  </tbody>\n",
       "</table>\n",
       "</div>"
      ],
      "text/plain": [
       "        BOX  MPRATING  BUDGET  STARPOWR  SEQUEL  ACTION  COMEDY  ANIMATED  \\\n",
       "0  19167085         4    28.0     19.83       0       0       1         0   \n",
       "1  63106589         2   150.0     32.69       1       0       0         1   \n",
       "2   5401605         4    37.4     15.69       0       0       1         0   \n",
       "3  67528882         3   200.0     23.62       1       1       0         0   \n",
       "4  26223128         2   150.0     19.02       0       0       0         1   \n",
       "\n",
       "   HORROR    ADDICT  CMNGSOON  FANDANGO  CNTWAIT3   \n",
       "0       0   7860.50        10       144       0.49  \n",
       "1       0   5737.00        59       468       0.79  \n",
       "2       0    850.00        24       198       0.36  \n",
       "3       0  15326.00        93      1778       0.76  \n",
       "4       0   4574.25        30      1109       0.53  "
      ]
     },
     "execution_count": 40,
     "metadata": {},
     "output_type": "execute_result"
    }
   ],
   "source": [
    "movie_data.head()"
   ]
  },
  {
   "cell_type": "markdown",
   "id": "2143f0e5-378b-47e5-8bf4-d9938cdd7377",
   "metadata": {},
   "source": [
    "### Task 1a)\n",
    "\n",
    "We want to train a linear regression model with the *logarithm* of box office sales as output and all other variables in `movie_data` (plus a constant) as inputs. We are not going to hold out any validation data. \n",
    "\n",
    "First, extract the output and input variables into $n \\times 1$ and $n \\times p$ NumPy arrays `y_1a` and `X_1a`, respectively. Second, use the `OLS()` function in `statsmodels` to specify the regression model and to learn its coefficients. Save the specified model as `lm_fit_1a`. Third, save the p-values of tests for the individual significance of the regression coefficients as `pvalues_1a`. \n",
    "\n",
    "*Hint:* Information about where the p-values of a learned linear regression can be found is provided by the [documentation](https://www.statsmodels.org/dev/generated/statsmodels.regression.linear_model.RegressionResults.html#statsmodels.regression.linear_model.RegressionResults) of the `RegressionResults()` class in `statsmodels`."
   ]
  },
  {
   "cell_type": "code",
   "execution_count": 41,
   "id": "b1ad2582-fde1-4f7a-80f7-6e64713ecd2e",
   "metadata": {},
   "outputs": [
    {
     "name": "stdout",
     "output_type": "stream",
     "text": [
      "                            OLS Regression Results                            \n",
      "==============================================================================\n",
      "Dep. Variable:                      y   R-squared:                       0.616\n",
      "Model:                            OLS   Adj. R-squared:                  0.522\n",
      "Method:                 Least Squares   F-statistic:                     6.554\n",
      "Date:                Tue, 31 Oct 2023   Prob (F-statistic):           8.52e-07\n",
      "Time:                        02:07:17   Log-Likelihood:                -54.149\n",
      "No. Observations:                  62   AIC:                             134.3\n",
      "Df Residuals:                      49   BIC:                             162.0\n",
      "Df Model:                          12                                         \n",
      "Covariance Type:            nonrobust                                         \n",
      "==============================================================================\n",
      "                 coef    std err          t      P>|t|      [0.025      0.975]\n",
      "------------------------------------------------------------------------------\n",
      "const         15.2537      0.598     25.512      0.000      14.052      16.455\n",
      "x1            -0.2122      0.133     -1.597      0.117      -0.479       0.055\n",
      "x2             0.0052      0.003      1.675      0.100      -0.001       0.011\n",
      "x3            -0.0047      0.013     -0.370      0.713      -0.030       0.021\n",
      "x4             0.3939      0.318      1.237      0.222      -0.246       1.034\n",
      "x5            -0.7491      0.281     -2.669      0.010      -1.313      -0.185\n",
      "x6            -0.0016      0.247     -0.007      0.995      -0.497       0.494\n",
      "x7            -0.8212      0.387     -2.121      0.039      -1.599      -0.043\n",
      "x8             0.4377      0.357      1.228      0.225      -0.279       1.154\n",
      "x9          2.216e-05   1.59e-05      1.390      0.171   -9.88e-06    5.42e-05\n",
      "x10           -0.0001      0.001     -0.125      0.901      -0.002       0.002\n",
      "x11            0.0002      0.000      0.725      0.472      -0.000       0.001\n",
      "x12            3.2915      0.803      4.097      0.000       1.677       4.906\n",
      "==============================================================================\n",
      "Omnibus:                        0.796   Durbin-Watson:                   2.076\n",
      "Prob(Omnibus):                  0.672   Jarque-Bera (JB):                0.253\n",
      "Skew:                           0.011   Prob(JB):                        0.881\n",
      "Kurtosis:                       3.312   Cond. No.                     1.01e+05\n",
      "==============================================================================\n",
      "\n",
      "Notes:\n",
      "[1] Standard Errors assume that the covariance matrix of the errors is correctly specified.\n",
      "[2] The condition number is large, 1.01e+05. This might indicate that there are\n",
      "strong multicollinearity or other numerical problems.\n"
     ]
    }
   ],
   "source": [
    "# 1.\n",
    "y_1a = np.log(movie_data[\"BOX\"]).values.reshape(-1, 1)\n",
    "ones = np.ones(len(y_1a))\n",
    "X_1a = sm.add_constant(movie_data.drop(\"BOX\", axis=1).values)\n",
    "\n",
    "# 2.\n",
    "lm_fit_1a = sm.OLS(y_1a, X_1a).fit()\n",
    "print(lm_fit_1a.summary())\n",
    "\n",
    "# 3.\n",
    "pvalues_1a = lm_fit_1a.pvalues\n"
   ]
  },
  {
   "cell_type": "markdown",
   "id": "a3db13a6-b375-41d8-bf77-df0f7569bcf3",
   "metadata": {},
   "source": [
    "### Task 1b)\n",
    "\n",
    "The `multitest()` function in the `stats.multipletest` module of `statsmodels` calculates p-value adjustments that control either the familywise error rate (FWER) or the false discovery rate (FDR). A list of the supported methods is given in the [statsmodels documentation](https://www.statsmodels.org/dev/generated/statsmodels.stats.multitest.multipletests.html).\n",
    "\n",
    "Use this function to correct the p-values `p_val_1a` using Holm's procedure and save them as p_holm_1b. Then, store the names of all input variables whose corrected p-value is below the significance level `alpha_1b` in an object `names_selected_1b`.\n"
   ]
  },
  {
   "cell_type": "code",
   "execution_count": 42,
   "id": "0d21fe31-370f-46e2-b705-29b4f2849a4d",
   "metadata": {},
   "outputs": [
    {
     "name": "stdout",
     "output_type": "stream",
     "text": [
      "['CNTWAIT3 ']\n"
     ]
    }
   ],
   "source": [
    "import statsmodels.stats.multitest as smm\n",
    "\n",
    "alpha_1b = 0.05\n",
    "\n",
    "# 1.\n",
    "p_holm_1b = smm.multipletests(pvalues_1a,\n",
    "                alpha = alpha_1b,\n",
    "                method = \"holm\")[1][1:]\n",
    "\n",
    "\n",
    "\n",
    "# 2.\n",
    "column_names = movie_data.drop(\"BOX\", axis=1).columns\n",
    "names_selected_1b = column_names[p_holm_1b < alpha_1b].values\n",
    "print(names_selected_1b)"
   ]
  },
  {
   "cell_type": "markdown",
   "id": "9f939b8a-c63a-4aa7-9212-0c33e345abf6",
   "metadata": {},
   "source": [
    "## Part 2: The FWER in a simulation study\n",
    "\n",
    "In this part, we will use simulations to convince ourselves that standard p-values are problematic if we conduct a larger number of tests and that simple p-value adjustments can address our multiple testing problem.\n",
    "\n",
    "Below, I have written a short function `X_fun_precompute` that calculates particular functions of some provided matrix `XX`. These are returned as a dictionary. We will need this function output in the tasks below.\n"
   ]
  },
  {
   "cell_type": "code",
   "execution_count": 43,
   "id": "d66bfeb7-a01a-4ba1-aad9-01d91bd0dc1a",
   "metadata": {},
   "outputs": [],
   "source": [
    "def X_fun_precompute(XX):\n",
    "    p1        = XX.shape[1]\n",
    "    XtX       = XX.T @ XX\n",
    "    XtX_inv   = np.linalg.solve(XtX, np.eye(p1))\n",
    "    XtX_inv_Xt = XtX_inv @ XX.T  \n",
    "    results = {'X': XX,\n",
    "               'XtX': XtX,\n",
    "               'XtX_inv': XtX_inv,\n",
    "               'XtX_inv_Xt': XtX_inv_Xt}\n",
    "    return(results)"
   ]
  },
  {
   "cell_type": "markdown",
   "id": "e42bdc94-8f9e-499f-9596-26b1cc56ba0c",
   "metadata": {},
   "source": [
    "### Task 2a)\n",
    "We start with the individual building blocks of our simulation study. First, we obtained learned coefficients, residuals and variance estimates from a linear regression model. Do the following:\n",
    "\n",
    "1. Call the function `X_fun_precompute` with `X_1a` as its only argument and save the function output as `X_funs_2a`.\n",
    "2. Manually compute the learned coefficients in a regression model with `y_1a` as output and `X_1a` as inputs. Save it as `beta_hat_2a`. Use the pre-computed functions of `X_1a` inside `X_funs_2a` instead of constructing them again.  \n",
    "3. Obtain the marginal variance \n",
    "$$ \\widehat{Var}[\\hat{\\beta} | X, y]= \\hat{\\sigma}^{2}(X^TX)^{-1} $$\n",
    "where $\\hat{\\sigma}^2$ is the estimated variance of the residuals. Save it as `VX_2a`. Again, use objects inside `X_funs_2a` to refer to `X_1a` and any function that involves `X_1a` alone. \n",
    "\n",
    "*Hint:* A good way to see that you have done things correctly is to compare your result with the summary of your regression results in Task 1a)."
   ]
  },
  {
   "cell_type": "code",
   "execution_count": 44,
   "id": "0759ccb6-fbd1-42d8-beff-8bbd349075e5",
   "metadata": {},
   "outputs": [],
   "source": [
    "# 1.\n",
    "X_funs_2a = X_fun_precompute(X_1a)\n",
    "\n",
    "# 2.\n",
    "beta_hat_2a = X_funs_2a['XtX_inv_Xt'] @ y_1a\n",
    "\n",
    "# 3.\n",
    "residuals = (X_1a @ beta_hat_2a) - y_1a\n",
    "variance_of_residuals = sum(residuals**2) / (y_1a.shape[0] - beta_hat_2a.shape[0])\n",
    "VX_2a = variance_of_residuals * X_funs_2a['XtX_inv']\n"
   ]
  },
  {
   "cell_type": "markdown",
   "id": "226ba36b-2764-4b6e-a946-00eb9df8ed81",
   "metadata": {},
   "source": [
    "### Task 2b)\n",
    "\n",
    "As a next step, do the following:\n",
    "\n",
    "1. Obtain $t-$ statistics for $\\beta_i$ under $H_0:\\beta_i=0$, namely\n",
    "$$\n",
    "t_i = \\left|\\frac{\\hat{\\beta}_i}{\\widehat{sd[\\hat{\\beta}_i | X, y]}} \\right|,\n",
    "$$\n",
    "and save them as `t_2b`. Use existing objects from Task 2a to arrive there.\n",
    "2. Compute the corresponding $p-$values of two-sided tests and save them as `pvalues_2b`. Here, keep in mind that $\\frac{\\hat{\\beta}_i}{\\widehat{sd[\\hat{\\beta}_i | X, y]}} $ follows a Student-t distribution with $n-p$ degrees of freedom. The cumulative density function of this distribution is given by the `t.cdf()` function in the stats-module of `scipy`. See its documentation [here](https://docs.scipy.org/doc/scipy/reference/generated/scipy.stats.t.html)\n",
    "\n",
    "*Hint*: Use the result\n",
    "$$\n",
    "P_{0}(|T| \\geq t) = P_{0}(T \\leq -t)  + P_{0}(T \\geq t).\n",
    "$$\n"
   ]
  },
  {
   "cell_type": "code",
   "execution_count": 47,
   "id": "1f0ebd29-01b1-4101-bdda-8476f78db551",
   "metadata": {},
   "outputs": [
    {
     "name": "stdout",
     "output_type": "stream",
     "text": [
      "[5.98535676e-30 1.16712957e-01 1.00223475e-01 7.12863418e-01\n",
      " 2.22074114e-01 1.02792821e-02 9.94735407e-01 3.90030627e-02\n",
      " 2.25407695e-01 1.70837810e-01 9.01344900e-01 4.71685883e-01\n",
      " 1.56484357e-04]\n",
      "[[0.00000000e+00]\n",
      " [1.16712957e-01]\n",
      " [1.00223475e-01]\n",
      " [7.12863418e-01]\n",
      " [2.22074114e-01]\n",
      " [1.02792821e-02]\n",
      " [9.94735407e-01]\n",
      " [3.90030627e-02]\n",
      " [2.25407695e-01]\n",
      " [1.70837810e-01]\n",
      " [9.01344900e-01]\n",
      " [4.71685883e-01]\n",
      " [1.56484357e-04]]\n"
     ]
    }
   ],
   "source": [
    "from scipy.stats import t\n",
    "\n",
    "# 1.\n",
    "t_2b       = np.abs(beta_hat_2a)/np.sqrt(np.diag(VX_2a)).reshape(-1,1)\n",
    "\n",
    "# 2.\n",
    "pvalues_2b = 2 * (1 - t.cdf(np.abs(t_2b), df=y_1a.shape[0]-beta_hat_2a.shape[0]))\n",
    "\n",
    "print(pvalues_1a)\n",
    "print(pvalues_2b)"
   ]
  },
  {
   "cell_type": "markdown",
   "id": "d31e77c0-96da-4351-8bed-135a149f11bb",
   "metadata": {},
   "source": [
    "### Task 2c)\n",
    "Now write a function `calculate_p_2c`.  Its arguments are a $n times 1$ Numpy array of output values `y0` as well as a dictionary `X0_funs`  with the same structure as `X_funs_2a`. `calculate_p_2c` should conduct the same steps as in Tasks 2a-b and should return the p-values of a regression of `y0` on the input matrix from which `X0_funs` has been generated."
   ]
  },
  {
   "cell_type": "code",
   "execution_count": 48,
   "id": "e19df31f-e2ee-45ce-9450-c3b6436f6a58",
   "metadata": {},
   "outputs": [],
   "source": [
    "def calculate_p_2c(ntimes1, XO_funs):\n",
    "    X_funs_all = XO_funs\n",
    "    beta_hat = X_funs_all['XtX_inv_Xt'] @ ntimes1\n",
    "    residuals = (X_funs_all['X'] @ beta_hat) - ntimes1\n",
    "    variance_residuals = sum(residuals**2) / (ntimes1.shape[0] - beta_hat.shape[0])\n",
    "    marginal_variance = variance_residuals * X_funs_all['XtX_inv']\n",
    "    t_val = abs(beta_hat) / (np.diag(marginal_variance)**0.5).reshape(-1, 1)\n",
    "    pvals = 2 * (1 - t.cdf(abs(t_val), df=ntimes1.shape[0] - beta_hat.shape[0]))\n",
    "    return pvals"
   ]
  },
  {
   "cell_type": "markdown",
   "id": "7e4f6f59-852d-4605-bfe5-a2b9a7545cc6",
   "metadata": {},
   "source": [
    "### Task 2d)\n",
    "Now we can set op our simulation study. Write a loop that repeats the following steps 1000 times:\n",
    "\n",
    "1. Simulate an output `y_fake` unrelated to the existing inputs `X_1a`. `y_fake` should be drawn from a normal distribution with mean and variance coming from the sample mean and variance of the observed $y$ in your dataset.\n",
    "\n",
    "2. Use your function `calculate_p_2c` to compute $p-$values in a linear regression of `y_fake` on the observed inputs `X_1a`. Use the existing dictionary `X_funs_2a` as second function argument.\n",
    "3. Adjust the p-values returned by `calculate_p_2c` in two different ways: i) Bonferroni adjustment, ii) Holm's method.\n",
    "4. Store the number of variables in the learned model (excluding the intercept) whose coefficient is found to be statistically significant at a significance level $\\alpha=0.05$. Do this for i) p-value without adjustment, ii) Bonferroni-adjusted p-values, iii) Holm-adjusted p-values.\n",
    "\n",
    "For step 3., create empty arrays, `n_selected_naive`, `n_selected_Holm` and `n_selected_Bonferroni` before you write the for loop. Inside the loop, store the number of statistically significant inputs in your *j*-th iteration in element *j* of these objects.\n",
    "\n",
    "When the loop has finished, calculate the FWER using results from the 100 iterations of your loop. Save the FWER for your three sets of p-value based selection of significant predictors as `FWER_Naive`, `FWER_Holm` and `FWER_BF`.\n",
    "\n",
    "Does either of the three methods successfully control the FWER? Save your answer in the string variable `FWER_control_2d`."
   ]
  },
  {
   "cell_type": "code",
   "execution_count": 49,
   "id": "9ba7dbcb-f8dc-4c91-b6ba-a6577915a1e0",
   "metadata": {},
   "outputs": [
    {
     "name": "stdout",
     "output_type": "stream",
     "text": [
      "[2. 2. 1. 1. 2. 1. 1. 2. 1. 1. 1. 3. 1. 2. 2. 1. 1. 1. 1. 4. 1. 1. 2. 1.\n",
      " 1. 3. 1. 1. 1. 1. 1. 1. 1. 2. 1. 1. 1. 2. 3. 1. 1. 1. 2. 3. 1. 1. 2. 1.\n",
      " 1. 2. 6. 1. 1. 2. 2. 1. 2. 2. 1. 2. 1. 2. 1. 1. 3. 2. 2. 3. 1. 1. 1. 2.\n",
      " 3. 1. 1. 1. 2. 1. 4. 3. 2. 1. 1. 1. 1. 2. 1. 1. 2. 3. 1. 1. 1. 2. 1. 2.\n",
      " 2. 1. 2. 1.]\n",
      "[1. 1. 1. 1. 1. 1. 1. 1. 1. 1. 1. 1. 1. 1. 1. 1. 1. 1. 1. 2. 1. 1. 1. 1.\n",
      " 1. 1. 1. 1. 1. 1. 1. 1. 1. 2. 1. 1. 1. 1. 1. 1. 1. 1. 1. 1. 1. 1. 1. 1.\n",
      " 1. 1. 1. 1. 1. 1. 1. 1. 1. 1. 1. 1. 1. 1. 1. 1. 1. 1. 1. 1. 1. 1. 1. 1.\n",
      " 1. 1. 1. 1. 1. 1. 1. 1. 1. 1. 1. 1. 1. 1. 1. 1. 1. 1. 1. 1. 1. 1. 1. 1.\n",
      " 1. 1. 1. 1.]\n",
      "[1. 1. 1. 1. 1. 1. 1. 1. 1. 1. 1. 1. 1. 1. 1. 1. 1. 1. 1. 2. 1. 1. 1. 1.\n",
      " 1. 1. 1. 1. 1. 1. 1. 1. 1. 1. 1. 1. 1. 1. 1. 1. 1. 1. 1. 1. 1. 1. 1. 1.\n",
      " 1. 1. 1. 1. 1. 1. 1. 1. 1. 1. 1. 1. 1. 1. 1. 1. 1. 1. 1. 1. 1. 1. 1. 1.\n",
      " 1. 1. 1. 1. 1. 1. 1. 1. 1. 1. 1. 1. 1. 1. 1. 1. 1. 1. 1. 1. 1. 1. 1. 1.\n",
      " 1. 1. 1. 1.]\n",
      "0.41\n",
      "0.02\n",
      "0.01\n"
     ]
    }
   ],
   "source": [
    "n_selected_naive = np.empty(100)\n",
    "n_selected_Holm = np.empty(100)\n",
    "n_selected_Bonferroni = np.empty(100)\n",
    "\n",
    "mean_y = np.mean(y_1a)\n",
    "std_y = np.std(y_1a, ddof=1)\n",
    "\n",
    "np.random.seed(5)\n",
    "\n",
    "for i in range(0, 100):\n",
    "    y_fake = np.random.normal(loc=mean_y, scale=std_y, size=len(y_1a)).reshape(-1,1)\n",
    "    \n",
    "    p_naive = calculate_p_2c(y_fake, X_funs_2a).flatten()\n",
    "    N = len(p_naive)\n",
    "\n",
    "    p_Holm = np.empty(N)\n",
    "    p_BF = np.empty(N)\n",
    "\n",
    "    p_naive = np.sort(p_naive)\n",
    "\n",
    "    for j in range(0, N):\n",
    "        p_Holm[j] = min([p_naive[j] * (N-(j+1)+1), 1])\n",
    "        p_BF[j] = min([p_naive[j] * N, 1])\n",
    "    \n",
    "    n_selected_naive[i] = sum(p_naive <= 0.05)\n",
    "    n_selected_Holm[i] = sum(p_Holm <= 0.05)\n",
    "    n_selected_Bonferroni[i] = sum(p_BF <= 0.05)\n",
    "\n",
    "print(n_selected_naive)\n",
    "print(n_selected_Holm)\n",
    "print(n_selected_Bonferroni)\n",
    "\n",
    "#OBS: We use -1 to not include the intercept which is always significant \n",
    "print(sum(n_selected_naive-1 > 0)/100)\n",
    "print(sum(n_selected_Holm-1 > 0)/100)\n",
    "print(sum(n_selected_Bonferroni-1 > 0)/100)\n",
    "\n",
    "FWER_control_2d = \"After testing different seeds we can realize that the answer is highly dependent on the random data. \\nBut if we stick with seed 5 as our example we see that the naive one fails miserable, while both Holm and \\nBonferroni appears to make the cut. Since all hypothesis test in reality should be true it is only Bonferroni and Holm \\n that successfully classify all of them as true in more than 95% of cases. \\nJust for fun we tried 10000 simulations. Then we see the FWER converge to \\naround 0.390 for naive, 0.047 for Holm and 0.043 for Bonferroni. Which seems to make sense.\""
   ]
  },
  {
   "cell_type": "markdown",
   "id": "f150da53-2d59-4f4a-8f64-4e5a14cf18a5",
   "metadata": {},
   "source": [
    "## Part 3: Test power with p-value adjustment\n",
    "\n",
    "Now that we have created an efficient algorithm for computing the p-values, we are going to explore what happens when one adds several signals to the simulated data.\n",
    "However, we first rescale all input variables in our data so that they have a variance of one."
   ]
  },
  {
   "cell_type": "code",
   "execution_count": 50,
   "id": "add7dd46-7627-483e-afda-e9de1aa59ac5",
   "metadata": {},
   "outputs": [],
   "source": [
    "from sklearn.preprocessing import StandardScaler\n",
    "\n",
    "scaler_3a = StandardScaler(with_mean=False)\n",
    "X_3a      = scaler_3a.fit_transform(X_1a)"
   ]
  },
  {
   "cell_type": "markdown",
   "id": "b6a80fb7-3434-4851-993b-cd7c62f21fc6",
   "metadata": {},
   "source": [
    "### Task 3a)\n",
    "Next, we simulate artificial outcomes. However, in contrast to task 2d we are *not* creating new $y$ that are completely unrelated to the observed predictors in our box office sales data. More specifically, we simulate $y$ from the linear model\n",
    "$$\n",
    "\\mathbf{y}= \\mathbf{X}\\boldsymbol{\\beta} + \\boldsymbol{\\varepsilon}\n",
    "$$\n",
    "where $X$ contains the scaled predictors of Task 3a. For the vector of slope coefficients $\\beta$, we let $\\beta_{2:5}=log(2:5)$ whereas all other elements of this vector are 0. The model errors $\\epsilon$ are drawn independently from a standard normal distribution. Construct a new object `y_sim_3a` that contains simulated outcomes from the model described here."
   ]
  },
  {
   "cell_type": "code",
   "execution_count": 52,
   "id": "306cbc21-441d-454c-8949-efcfc97305e5",
   "metadata": {},
   "outputs": [],
   "source": [
    "signal_index_3a = [1, 2, 3, 4]\n",
    "n, p = X_3a.shape\n",
    "\n",
    "beta_sim_3a = np.zeros(p)\n",
    "beta_sim_3a[signal_index_3a] = np.log(np.arange(2, 6))\n",
    "\n",
    "np.random.seed(5)\n",
    "epsilon = np.random.normal(0, 1, n)\n",
    "\n",
    "y_sim_3a = (X_3a @ beta_sim_3a + epsilon).reshape(-1,1)"
   ]
  },
  {
   "cell_type": "markdown",
   "id": "2ec76254-150b-48ee-a7d0-c5ae1b268c55",
   "metadata": {},
   "source": [
    "### Task 3b)\n",
    "In this task were are getting adjusted p-values again:\n",
    "\n",
    "1. Obtain a list object `x_funs_3b` containing functions of `X_3a` using `X_fun_precompute()`.\n",
    "2. Use your`calculate_p_2c()` function to get p-values for significance tests in a regression with `y_sim_3a` as output and `X_3a` as inputs. Save your result as `pvalues_3b`.\n",
    "2. Get adjusted p-values from Bonferroni and Benjamini & Hochberg corrections by using `p.adjust()`. Save these p-values as `p_BF_3b` and `p_hochberg_3b`."
   ]
  },
  {
   "cell_type": "code",
   "execution_count": 21,
   "id": "b484942e-9828-4d4b-8328-279087245812",
   "metadata": {},
   "outputs": [],
   "source": [
    "# 1.\n",
    "x_funs_3b  = X_fun_precompute(X_3a)\n",
    "\n",
    "# 2.\n",
    "pvalues_3b = calculate_p_2c(y_sim_3a, x_funs_3b).flatten()\n",
    "\n",
    "# 3.\n",
    "p_BF_3b       = smm.multipletests(pvalues_3b, alpha = 0.05, method='bonferroni')[1]\n",
    "p_hochberg_3b = smm.multipletests(pvalues_3b, alpha = 0.05, method='fdr_bh')[1]"
   ]
  },
  {
   "cell_type": "markdown",
   "id": "683f703f-0c4a-4bbf-bf78-1a672c549688",
   "metadata": {},
   "source": [
    "### Task 3c)\n",
    "Next, we calculate the false discovery proportion of Bonferroni and Benjamini-Hochberg methods.\n",
    "\n",
    "1. Create  binary vectors `selected_BF_3c` and `selected_hochberg_3c` whose elements indicate which input variables are significant at a (familywise) significance level of $\\alpha=0.15$. \n",
    "2. Create  binary vectors `selected_true_BF_3c` and `selected_true_hochberg_3c` whose elements indicate if the coefficient on a particular input variable is significant *and* has a nonzero true value in the setup that you used to generate `y_sim_3a`. \n",
    "3. Use the objects from steps 1 and 2 to calculate the $fdp$ for Bonferroni and Benjamini & Hochberg corrections. Save them as `fdp_BF_3c` and `fdp_hochberg_3c` "
   ]
  },
  {
   "cell_type": "code",
   "execution_count": 23,
   "id": "5d6ae446-b379-40dd-b283-0db008207946",
   "metadata": {},
   "outputs": [],
   "source": [
    "alpha_3c = 0.15\n",
    "\n",
    "# 1.\n",
    "selected_BF_3c       = (p_BF_3b <= alpha_3c).astype(int)\n",
    "selected_hochberg_3c = (p_hochberg_3b <= alpha_3c).astype(int)\n",
    "\n",
    "# 2.\n",
    "selected_true_BF_3c =       (selected_BF_3c & np.isin(range(len(selected_BF_3c)), \n",
    "                                                      signal_index_3a)).astype(int)\n",
    "selected_true_hochberg_3c = (selected_hochberg_3c & np.isin(range(len(selected_hochberg_3c)), \n",
    "                                                            signal_index_3a)).astype(int)\n",
    "\n",
    "# 3.\n",
    "fdp_BF_3c       = sum(selected_BF_3c & ~selected_true_BF_3c) / (sum(selected_BF_3c))\n",
    "fdp_hochberg_3c = sum(selected_hochberg_3c & ~selected_true_hochberg_3c) / (sum(selected_hochberg_3c))"
   ]
  },
  {
   "cell_type": "markdown",
   "id": "30866f29-da92-4abe-b94a-45ef3f2ab6a8",
   "metadata": {},
   "source": [
    "### Task 3d)\n",
    "\n",
    "We are now going to conduct simulations in order to investigate the $FWER$, $FDR$ and the power of each signal variable in the model setup of Task 3b. We do this in a double loop. \n",
    "\n",
    "The inner loop generates 1000 vectors of simulated outputs and records (using a vector of indicator variables) which of the input variables in `X_3a` are significant at a 15% significance level. The underlying p-values are to be corrected using the Bonferroni and Benjamini-Hochberg corrections. \n",
    "\n",
    "The outer loop runs through 20 cases with signal variables of increasing signal strength. Signal strength is controlled by multiplying the coefficient vector `beta_sim_3a` of your model  with a magnitude factor `mag` whose 20 possible values are saved in a vector `magnitudes`. After the inner loop has been run, the outer loop uses information of variable selection in every simulated dataset to calculate FDR and FWER, excluding the pvalue of a test for statistical significance of the intercept. The outer loop also stores the power of significance test for coefficients on each of the four signal variables in the model (i.e. those with nonzero beta coefficient).\n",
    "\n",
    "*Note*: The code chunk below prepares a number of empty vectors and matrices that are to be filled in the inner and outer loops. The matrices starting with `selected.` might be a bit confusing. Keep in mind that they have dimension $\\mathrm{sim} \\times p$. So each iteration of the inner loop is supposed to fill one of their rows."
   ]
  },
  {
   "cell_type": "code",
   "execution_count": 53,
   "id": "27d8e014-d96f-443a-baf7-4ededcf05658",
   "metadata": {},
   "outputs": [],
   "source": [
    "# Don't change anything here:\n",
    "np.random.seed(4456)\n",
    "\n",
    "sim = 1000\n",
    "p = X_3a.shape[1]\n",
    "magnitudes = np.linspace(0, 1, 20)\n",
    "\n",
    "Power_Hochberg_3d    = np.zeros((len(magnitudes), len(signal_index_3a)))\n",
    "Power_BF_3d          = np.zeros((len(magnitudes), len(signal_index_3a)))\n",
    "FWER_Hochberg_3d     = np.zeros(len(magnitudes))\n",
    "FWER_BF_3d           = np.zeros(len(magnitudes))\n",
    "FDR_BF               = np.zeros(len(magnitudes))\n",
    "FDR_Hochberg         = np.zeros(len(magnitudes))\n",
    "selected_BF_3d       = np.zeros((sim, p))\n",
    "selected_Hochberg_3d = np.zeros((sim, p))\n",
    "\n",
    "# Start changing stuff below\n",
    "for i, mag in enumerate(magnitudes):\n",
    "    for ii in range(sim):\n",
    "        beta_loop_3d          = mag * beta_sim_3a\n",
    "        y_loop_3d             = (X_3a @ beta_loop_3d + np.random.normal(0, 1, n)).reshape(-1,1)\n",
    "        pvals_loop_3d         = calculate_p_2c(y_loop_3d, x_funs_3b).flatten()\n",
    "        p_BF_loop_3d          = smm.multipletests(pvals_loop_3d, alpha = 0.05, method='bonferroni')[1]\n",
    "        p_hoch_loop_3d        = smm.multipletests(pvals_loop_3d, alpha = 0.05, method='fdr_bh')[1]\n",
    "        selected_BF_3d[ii, :] = (p_BF_loop_3d <= 0.15)\n",
    "        selected_Hochberg_3d[ii, :] = (p_hoch_loop_3d <= 0.15)\n",
    "    \n",
    "    Power_BF_3d[i, :]       = np.mean(selected_BF_3d[:, signal_index_3a], axis=0)\n",
    "    Power_Hochberg_3d[i, :] = np.mean(selected_Hochberg_3d[:, signal_index_3a], axis=0)\n",
    "    FWER_BF_3d[i]           = np.mean(np.any(selected_BF_3d[:, ~np.isin(range(p), signal_index_3a)], axis=1))\n",
    "    FWER_Hochberg_3d[i]     = np.mean(np.any(selected_Hochberg_3d[:, ~np.isin(range(p), signal_index_3a)], axis=1))\n",
    "    FDR_BF[i]               = np.sum(selected_BF_3d[:, ~np.isin(range(p), signal_index_3a)]) / max(np.sum(selected_BF_3d), 1e-10)\n",
    "    FDR_Hochberg[i]         = np.sum(selected_Hochberg_3d[:, ~np.isin(range(p), signal_index_3a)]) / max(np.sum(selected_Hochberg_3d), 1e-10)"
   ]
  },
  {
   "cell_type": "markdown",
   "id": "3a5bce1e-7b04-4c14-9696-a2302dd2d6a6",
   "metadata": {},
   "source": [
    "### Task 3e)\n",
    "For the variable with the strongest signal (i.e. the largest coefficient in `beta_sim_3a`) create a line plot that plots the power of a significance test on its coefficient against the signal strength `mag`. Since you have power for both Bonferroni amd Benjamini-Hochberg adjustments, you need to include the corresponding two power curves in the same plot.\n",
    "\n",
    "Then, create another plot in which you repeat the same task for the weakest signal (i.e. the variable with smallest nonzero coefficient in `beta_sim_3a`).\n",
    "\n",
    "Why is the difference in power between Bonferroni and Benjamini-Hochberg adjusted p-values larger on the weakest signal? Write your answer into the string variable `why_difference_3e`."
   ]
  },
  {
   "cell_type": "code",
   "execution_count": 27,
   "id": "747fdd9d-1338-421d-87e0-5ff4c12382f5",
   "metadata": {},
   "outputs": [
    {
     "data": {
      "image/png": "[encoded data removed]",
      "text/plain": [
       "<Figure size 640x480 with 1 Axes>"
      ]
     },
     "metadata": {},
     "output_type": "display_data"
    },
    {
     "data": {
      "image/png": "[encoded data removed]",
      "text/plain": [
       "<Figure size 640x480 with 1 Axes>"
      ]
     },
     "metadata": {},
     "output_type": "display_data"
    }
   ],
   "source": [
    "import matplotlib.pyplot as plt\n",
    "\n",
    "magnitudes = np.linspace(0, 1, 20)\n",
    "x_axis = beta_sim_3a[4] * magnitudes\n",
    "\n",
    "plt.figure()\n",
    "plt.plot(x_axis, Power_BF_3d[:, 3], label='Bonferroni', marker='o')\n",
    "plt.plot(x_axis, Power_Hochberg_3d[:, 3], label='Benjamini-Hochberg', marker='x')\n",
    "plt.xlabel('Signal Strength')\n",
    "plt.ylabel('Power')\n",
    "plt.title('Power vs Signal Strength for Strongest Signal')\n",
    "plt.legend()\n",
    "plt.show()\n",
    "\n",
    "x_axis_weakest = beta_sim_3a[1] * magnitudes\n",
    "\n",
    "plt.figure()\n",
    "plt.plot(x_axis_weakest, Power_BF_3d[:, 0], label='Bonferroni', marker='o')\n",
    "plt.plot(x_axis_weakest, Power_Hochberg_3d[:, 0], label='Benjamini-Hochberg', marker='x')\n",
    "plt.xlabel('Signal Strength')\n",
    "plt.ylabel('Power')\n",
    "plt.title('Power vs Signal Strength for Weakest Signal')\n",
    "plt.legend()\n",
    "plt.show()\n",
    "\n",
    "why_difference_3e = \"The 'decision slope' of the BH is much steeper than BF which is actually constant. BH is adaptive and \\nuses p/i < alpha and therefore when i increases, it gets 'nicer' while BF uses p*n and is therefore equally \\nconservative no matter the order of the p-value.\""
   ]
  },
  {
   "cell_type": "markdown",
   "id": "d1fd2b88-0811-4185-8b20-85d892e826ed",
   "metadata": {},
   "source": [
    "#### Task 3f)\n",
    "\n",
    "Now plot the FWER rates for both Bonferroni and Benamini-Hochberg adjustments against the signal strength `mag`. \n",
    "Which pattern can you see in these lines? Write your answer into the string variable `what_pattern_3f`. \n",
    "What causes these patterns? Write your answer into the string variable `why_pattern_3f`. "
   ]
  },
  {
   "cell_type": "code",
   "execution_count": 28,
   "id": "60098e8f-e63d-42d0-9490-c7e3c11c7f8d",
   "metadata": {},
   "outputs": [
    {
     "data": {
      "image/png": "[encoded data removed]",
      "text/plain": [
       "<Figure size 640x480 with 1 Axes>"
      ]
     },
     "metadata": {},
     "output_type": "display_data"
    }
   ],
   "source": [
    "plt.figure()\n",
    "plt.plot(magnitudes, FWER_BF_3d, label='Bonferroni', marker='o')\n",
    "plt.plot(magnitudes, FWER_Hochberg_3d, label='Benjamini-Hochberg', marker='x')\n",
    "plt.xlabel('Magnitude')\n",
    "plt.ylabel('FWER')\n",
    "plt.title('FWER vs Magnitude for Bonferroni / Benjamini-Hochberg')\n",
    "plt.legend()\n",
    "plt.show()\n",
    "\n",
    "what_pattern_3f = \"We clearly see that BH fails to control FWER while BF keeps it close to consant. The greater the signal the worse BH controls FWER\"\n",
    "why_pattern_3f  = \"BF is actually meant to control FWER while BH is not.\""
   ]
  },
  {
   "cell_type": "markdown",
   "id": "c1c6303a-7180-4fc7-998d-dee91ebc855b",
   "metadata": {},
   "source": [
    "## Part 4: Knock-off inference\n",
    "\n",
    "In Mullainathan, Sendhil, and Jann Spiess. 2017. \"Machine Learning: An Applied Econometric Approach.\" *Journal of Economic Perspectives*, 31 (2): 87-106, the authors compared several ML techniques for prediction of house prices (log of house prices). Here we will explore this data sets for variable selection (slightly cleaned by us a priori).\n",
    "First we load the data."
   ]
  },
  {
   "cell_type": "code",
   "execution_count": 29,
   "id": "5b9aee62-af44-4d55-94a7-2dbb60259d7e",
   "metadata": {},
   "outputs": [],
   "source": [
    "ahs_data = pd.read_csv(\"asst7_data_part4.csv\")\n",
    "y_4a = ahs_data['y_4a'].values.reshape(-1,1)\n",
    "X_4a = ahs_data.iloc[:,1:]\n",
    "X_varnames_4a = X_4a.columns"
   ]
  },
  {
   "cell_type": "code",
   "execution_count": 30,
   "id": "ce547be8",
   "metadata": {},
   "outputs": [
    {
     "data": {
      "text/html": [
       "<div>\n",
       "<style scoped>\n",
       "    .dataframe tbody tr th:only-of-type {\n",
       "        vertical-align: middle;\n",
       "    }\n",
       "\n",
       "    .dataframe tbody tr th {\n",
       "        vertical-align: top;\n",
       "    }\n",
       "\n",
       "    .dataframe thead th {\n",
       "        text-align: right;\n",
       "    }\n",
       "</style>\n",
       "<table border=\"1\" class=\"dataframe\">\n",
       "  <thead>\n",
       "    <tr style=\"text-align: right;\">\n",
       "      <th></th>\n",
       "      <th>PHONEother</th>\n",
       "      <th>KITCHEN2</th>\n",
       "      <th>MOBILTYPother</th>\n",
       "      <th>WINTEROVENother</th>\n",
       "      <th>WINTERELSPother</th>\n",
       "      <th>NEWC1</th>\n",
       "      <th>DISH2</th>\n",
       "      <th>WASH2</th>\n",
       "      <th>DRY2</th>\n",
       "      <th>REFR2</th>\n",
       "      <th>...</th>\n",
       "      <th>NOWIREother</th>\n",
       "      <th>REGION2</th>\n",
       "      <th>REGION3</th>\n",
       "      <th>REGION4</th>\n",
       "      <th>METRO7</th>\n",
       "      <th>METROother</th>\n",
       "      <th>UNITSFMISSother</th>\n",
       "      <th>EXCLUSMISS0</th>\n",
       "      <th>HOWHMISSother</th>\n",
       "      <th>NUMTLTMISS0</th>\n",
       "    </tr>\n",
       "  </thead>\n",
       "  <tbody>\n",
       "    <tr>\n",
       "      <th>0</th>\n",
       "      <td>0</td>\n",
       "      <td>0</td>\n",
       "      <td>0</td>\n",
       "      <td>0</td>\n",
       "      <td>1</td>\n",
       "      <td>0</td>\n",
       "      <td>0</td>\n",
       "      <td>0</td>\n",
       "      <td>0</td>\n",
       "      <td>0</td>\n",
       "      <td>...</td>\n",
       "      <td>0</td>\n",
       "      <td>0</td>\n",
       "      <td>0</td>\n",
       "      <td>1</td>\n",
       "      <td>1</td>\n",
       "      <td>0</td>\n",
       "      <td>0</td>\n",
       "      <td>1</td>\n",
       "      <td>0</td>\n",
       "      <td>0</td>\n",
       "    </tr>\n",
       "    <tr>\n",
       "      <th>1</th>\n",
       "      <td>0</td>\n",
       "      <td>0</td>\n",
       "      <td>0</td>\n",
       "      <td>0</td>\n",
       "      <td>0</td>\n",
       "      <td>0</td>\n",
       "      <td>0</td>\n",
       "      <td>0</td>\n",
       "      <td>0</td>\n",
       "      <td>0</td>\n",
       "      <td>...</td>\n",
       "      <td>0</td>\n",
       "      <td>0</td>\n",
       "      <td>0</td>\n",
       "      <td>1</td>\n",
       "      <td>1</td>\n",
       "      <td>0</td>\n",
       "      <td>0</td>\n",
       "      <td>1</td>\n",
       "      <td>0</td>\n",
       "      <td>0</td>\n",
       "    </tr>\n",
       "    <tr>\n",
       "      <th>2</th>\n",
       "      <td>0</td>\n",
       "      <td>0</td>\n",
       "      <td>0</td>\n",
       "      <td>0</td>\n",
       "      <td>0</td>\n",
       "      <td>0</td>\n",
       "      <td>0</td>\n",
       "      <td>0</td>\n",
       "      <td>0</td>\n",
       "      <td>0</td>\n",
       "      <td>...</td>\n",
       "      <td>0</td>\n",
       "      <td>0</td>\n",
       "      <td>0</td>\n",
       "      <td>1</td>\n",
       "      <td>1</td>\n",
       "      <td>0</td>\n",
       "      <td>0</td>\n",
       "      <td>1</td>\n",
       "      <td>1</td>\n",
       "      <td>0</td>\n",
       "    </tr>\n",
       "    <tr>\n",
       "      <th>3</th>\n",
       "      <td>0</td>\n",
       "      <td>0</td>\n",
       "      <td>0</td>\n",
       "      <td>0</td>\n",
       "      <td>0</td>\n",
       "      <td>0</td>\n",
       "      <td>0</td>\n",
       "      <td>0</td>\n",
       "      <td>0</td>\n",
       "      <td>0</td>\n",
       "      <td>...</td>\n",
       "      <td>0</td>\n",
       "      <td>0</td>\n",
       "      <td>0</td>\n",
       "      <td>1</td>\n",
       "      <td>1</td>\n",
       "      <td>0</td>\n",
       "      <td>0</td>\n",
       "      <td>1</td>\n",
       "      <td>0</td>\n",
       "      <td>0</td>\n",
       "    </tr>\n",
       "    <tr>\n",
       "      <th>4</th>\n",
       "      <td>0</td>\n",
       "      <td>0</td>\n",
       "      <td>0</td>\n",
       "      <td>0</td>\n",
       "      <td>0</td>\n",
       "      <td>0</td>\n",
       "      <td>0</td>\n",
       "      <td>0</td>\n",
       "      <td>0</td>\n",
       "      <td>0</td>\n",
       "      <td>...</td>\n",
       "      <td>0</td>\n",
       "      <td>0</td>\n",
       "      <td>0</td>\n",
       "      <td>1</td>\n",
       "      <td>1</td>\n",
       "      <td>0</td>\n",
       "      <td>0</td>\n",
       "      <td>1</td>\n",
       "      <td>0</td>\n",
       "      <td>0</td>\n",
       "    </tr>\n",
       "  </tbody>\n",
       "</table>\n",
       "<p>5 rows × 117 columns</p>\n",
       "</div>"
      ],
      "text/plain": [
       "   PHONEother  KITCHEN2  MOBILTYPother  WINTEROVENother  WINTERELSPother  \\\n",
       "0           0         0              0                0                1   \n",
       "1           0         0              0                0                0   \n",
       "2           0         0              0                0                0   \n",
       "3           0         0              0                0                0   \n",
       "4           0         0              0                0                0   \n",
       "\n",
       "   NEWC1  DISH2  WASH2  DRY2  REFR2  ...  NOWIREother  REGION2  REGION3  \\\n",
       "0      0      0      0     0      0  ...            0        0        0   \n",
       "1      0      0      0     0      0  ...            0        0        0   \n",
       "2      0      0      0     0      0  ...            0        0        0   \n",
       "3      0      0      0     0      0  ...            0        0        0   \n",
       "4      0      0      0     0      0  ...            0        0        0   \n",
       "\n",
       "   REGION4  METRO7  METROother  UNITSFMISSother  EXCLUSMISS0  HOWHMISSother  \\\n",
       "0        1       1           0                0            1              0   \n",
       "1        1       1           0                0            1              0   \n",
       "2        1       1           0                0            1              1   \n",
       "3        1       1           0                0            1              0   \n",
       "4        1       1           0                0            1              0   \n",
       "\n",
       "   NUMTLTMISS0  \n",
       "0            0  \n",
       "1            0  \n",
       "2            0  \n",
       "3            0  \n",
       "4            0  \n",
       "\n",
       "[5 rows x 117 columns]"
      ]
     },
     "execution_count": 30,
     "metadata": {},
     "output_type": "execute_result"
    }
   ],
   "source": [
    "X_4a.head()"
   ]
  },
  {
   "cell_type": "markdown",
   "id": "dcdf4cf7-4a75-4595-884b-c6cd30042b22",
   "metadata": {},
   "source": [
    "### Task 4a)\n",
    "As usual when working with lasso, we rescale the variances of all predictors and demean all variables before training any model. Do that here."
   ]
  },
  {
   "cell_type": "code",
   "execution_count": 31,
   "id": "2dad7e2d-2373-4d34-9855-7377e66453ac",
   "metadata": {},
   "outputs": [],
   "source": [
    "scaler_4a = StandardScaler()\n",
    "X_4a      = scaler_4a.fit_transform(X_4a)\n",
    "y_4a      = y_4a - np.mean(y_4a)"
   ]
  },
  {
   "cell_type": "markdown",
   "id": "b69f68e0-14fb-4ecc-a70c-ba6679f09dc8",
   "metadata": {},
   "source": [
    "### Task 4b)\n",
    "Now use *scikit-learn* to perform ten-fold cross-validation and save the resulting object as `lasso_cv_4b`.\n",
    "\n",
    "I have already written some code that saves the tuning parameter value selected through the one-S.E. rule as `alpha_1se`. Train a lasso model with this regularization parameter value and save this model as `lasso_fit_4b`. \n",
    "\n",
    "Lastly, extract the names of the selected variables (i.e. the variables corresponding to the non-zero coefficients of the lasso fit with chosen value for the regularization parameter $\\lambda$) into an object `selected_names_4b` and save the total number of selected variables as `num_selected_4b`."
   ]
  },
  {
   "cell_type": "code",
   "execution_count": 32,
   "id": "22c527a5-d115-4e7d-9e8a-2f2f8c2202eb",
   "metadata": {},
   "outputs": [
    {
     "name": "stderr",
     "output_type": "stream",
     "text": [
      "/Users/asger/anaconda3/lib/python3.11/site-packages/sklearn/linear_model/_coordinate_descent.py:1563: DataConversionWarning: A column-vector y was passed when a 1d array was expected. Please change the shape of y to (n_samples, ), for example using ravel().\n",
      "  y = column_or_1d(y, warn=True)\n"
     ]
    },
    {
     "name": "stdout",
     "output_type": "stream",
     "text": [
      "Selected Feature Names: ['PHONEother' 'KITCHEN2' 'MOBILTYPother' 'WINTEROVENother'\n",
      " 'WINTERELSPother' 'NEWC1' 'DISH2' 'WASH2' 'DRY2' 'REFR2' 'BATHS' 'BEDRMS'\n",
      " 'DENS' 'FAMRM' 'HALFB' 'KITCH' 'LIVING' 'RECRM' 'BUILT' 'LOT' 'UNITSF'\n",
      " 'CLIMB' 'DIRAC' 'AIRSYS2' 'WELDUSother' 'STEAM1' 'STEAM2' 'FRPLother'\n",
      " 'FPLWK2' 'FPINSother' 'DISPL2' 'TRASH2' 'TYPEother' 'ENOEAPP2' 'ECNTAIR1'\n",
      " 'ECNTAIRother' 'EAIRCother' 'EHEATUT2' 'EHEATUTother' 'EFRIDGE2'\n",
      " 'EWASHR2' 'EWASHRother' 'EDISHWR2' 'EDISHWRother' 'ETRSHCP1' 'ETRSHCP2'\n",
      " 'AIR' 'NUMAIR' 'WATERother' 'WATERDother' 'HOTPIP2' 'SEWDISTPother'\n",
      " 'SEWDUSother' 'KEXCLUother' 'INCPother' 'BUSPER' 'EXCLUS' 'LAUNDY'\n",
      " 'OTHRUN' 'DRSHOP2' 'CONDO3' 'CELLAR4' 'CELLARother' 'WHNGET'\n",
      " 'FRSTOCother' 'PREOCCother' 'EBARother' 'OTBUP1' 'OTBUP2' 'NUNITS'\n",
      " 'PLUGSother' 'OWNLOTother' 'ROOMS' 'PLUMB2' 'ZADEQother' 'LEAKother'\n",
      " 'WTRHRLother' 'RATSother' 'EGOODother' 'HOWH' 'BSINK2' 'TOILET2'\n",
      " 'ELEVWK1' 'EROACH2' 'EVROD2' 'ROACHFRQother' 'CRACKS2' 'EBOARDother'\n",
      " 'EBROKEother' 'ECRUMBother' 'EHOLERother' 'EMISSRother' 'EMISSWother'\n",
      " 'ESAGRother' 'HOLES2' 'IFBLOWother' 'FREEZEother' 'IFDRYother'\n",
      " 'IFSEWother' 'NUMCOLD' 'NUMSEW' 'OTHCLDother' 'NOWIREother' 'REGION2'\n",
      " 'REGION3' 'REGION4' 'METRO7' 'METROother' 'UNITSFMISSother' 'EXCLUSMISS0'\n",
      " 'HOWHMISSother' 'NUMTLTMISS0']\n",
      "Number of Selected Features: 112\n"
     ]
    }
   ],
   "source": [
    "from sklearn.linear_model import LassoCV, Lasso\n",
    "from sklearn.model_selection import KFold\n",
    "\n",
    "# Implement cross-validation\n",
    "lasso_cv_4b = LassoCV(cv=KFold(n_splits=10, shuffle=True, random_state=42, )).fit(X_4a, y_4a)\n",
    "\n",
    "# Get tuning parameter obtained with one-S.E. rule.\n",
    "mean_mse      = np.mean(lasso_cv_4b.mse_path_, axis=1)\n",
    "stderr_mse    = np.std(lasso_cv_4b.mse_path_, axis=1)\n",
    "idx_alpha_1se = np.where(mean_mse <= (min(mean_mse) + stderr_mse))[0][-1]\n",
    "alpha_1se     = lasso_cv_4b.alphas_[idx_alpha_1se]\n",
    "\n",
    "# Train Lasso model with optimal tuning parameter \n",
    "lasso_fit_4b = Lasso(alpha=alpha_1se).fit(X_4a, y_4a)\n",
    "\n",
    "# Extract non-zero coefficients\n",
    "coef_nonzero      = np.where(lasso_fit_4b.coef_ != 0)[0]\n",
    "\n",
    "selected_names_4b = ahs_data.iloc[:,1:].columns[np.where(lasso_fit_4b.coef_ != 0)].values\n",
    "num_selected_4b   = len(coef_nonzero)\n",
    "\n",
    "print(\"Selected Feature Names:\", selected_names_4b)\n",
    "print(\"Number of Selected Features:\", num_selected_4b)"
   ]
  },
  {
   "cell_type": "markdown",
   "id": "026747fd-a250-40f6-a79b-277020b2226b",
   "metadata": {},
   "source": [
    "### Task 4c) \n",
    "Next, we do controlled variable selection using knock-offs. In python, this is implemented via the `knockpy` package can be accessed through PyPI.\n",
    "The central fucntion for conducting knock-off variable selection is `KnockoffFilter()`, whose [documentation](https://amspector100.github.io/knockpy/apiref.html) provides you with an overview of its capabilities.\n",
    "\n",
    "First, call `KnockoffFilter()` to specify the setup of our variable selection exercise. More specifically, we want to base  \n",
    "The statistic that we want to use to do variable selection is\n",
    "$$\n",
    "Z_i  =max \\{\\lambda:\\beta_j(\\lambda) \\neq 0\\},\n",
    "$$\n",
    "as suggested in the seminal paper of Candes and Barber (2015). We also use the fixed-X option for knockoffs. Save the resulting specification object as `knockoff_filter_4c`.\n",
    "\n",
    "Second, apply the `forward()`-method to `knockoff_filter_4c` to run the knockoff filter. I order to select the correct arguments, recall that we want to select predictors of log houes prices `y_4a` from the whose set of predictor candidates `X_4a`. Now, we want to control the probability of making a mistake with an FDR of 15%.\n",
    "\n",
    "Lastly, save the names of the selected variables in an object `selected_names_4c` and the number of selected variables as `number_selected_4c`. How does the number selected variables in Task 4b compare to the number that you have now? Write you answer into the string variable `num_selected_compare_4c`.\n",
    "\n",
    "*Note:* The *knockpy* package deos not deal particularly well with large datasets. As a result, you might get a memory error. In this (likely) case, use fewer data points of `X_4a` and `y_4a`. To a certain degree, you can also free up unused memory using the `collect()` function in the `gc` package."
   ]
  },
  {
   "cell_type": "code",
   "execution_count": 35,
   "id": "242f92b8-09b3-4d7f-8389-e3b0a5921407",
   "metadata": {},
   "outputs": [
    {
     "ename": "ModuleNotFoundError",
     "evalue": "No module named 'knockpy'",
     "output_type": "error",
     "traceback": [
      "\u001b[0;31m---------------------------------------------------------------------------\u001b[0m",
      "\u001b[0;31mModuleNotFoundError\u001b[0m                       Traceback (most recent call last)",
      "\u001b[1;32m/Users/asger/Documents/GitHub/assignment4/Assignment_7/DABN13-Assignment7_template (1).ipynb Cell 51\u001b[0m line \u001b[0;36m1\n\u001b[0;32m----> <a href='vscode-notebook-cell:/Users/asger/Documents/GitHub/assignment4/Assignment_7/DABN13-Assignment7_template%20%281%29.ipynb#Y102sZmlsZQ%3D%3D?line=0'>1</a>\u001b[0m \u001b[39mimport\u001b[39;00m \u001b[39mknockpy\u001b[39;00m \u001b[39mas\u001b[39;00m \u001b[39mkpy\u001b[39;00m\n\u001b[1;32m      <a href='vscode-notebook-cell:/Users/asger/Documents/GitHub/assignment4/Assignment_7/DABN13-Assignment7_template%20%281%29.ipynb#Y102sZmlsZQ%3D%3D?line=1'>2</a>\u001b[0m \u001b[39mfrom\u001b[39;00m \u001b[39mknockpy\u001b[39;00m\u001b[39m.\u001b[39;00m\u001b[39mknockoff_filter\u001b[39;00m \u001b[39mimport\u001b[39;00m KnockoffFilter\n\u001b[1;32m      <a href='vscode-notebook-cell:/Users/asger/Documents/GitHub/assignment4/Assignment_7/DABN13-Assignment7_template%20%281%29.ipynb#Y102sZmlsZQ%3D%3D?line=4'>5</a>\u001b[0m \u001b[39m# 1.\u001b[39;00m\n",
      "\u001b[0;31mModuleNotFoundError\u001b[0m: No module named 'knockpy'"
     ]
    }
   ],
   "source": [
    "import knockpy as kpy\n",
    "from knockpy.knockoff_filter import KnockoffFilter\n",
    "\n",
    "\n",
    "# 1.\n",
    "knockoff_filter_4c = KnockoffFilter(fstat = 'lasso')\n",
    "\n",
    "# 2.\n",
    "knockoff_result_4c = knockoff_filter_4c.forward(X_4a, y_4a, fdr = 0.15)\n",
    "selected_names_4c = ahs_data.iloc[:,1:].columns[np.where(knockoff_result_4c != 0)].values\n",
    "number_selected_4c = len(selected_names_4c)\n",
    "\n",
    "print(\"Selected Feature Names:\", selected_names_4c)\n",
    "print(\"Number of Selected Features:\", number_selected_4c)\n",
    "\n",
    "# 3. \n",
    "num_selected_compare_4c = \"The number of variables kept is a lot lower now. This makes sense, since we are trying to \\ncontrol false discoveries. NOTE: we did not use ksampler='fx' because it caused issues which made matrix \\nuninvertible and we could not fix it.\""
   ]
  }
 ],
 "metadata": {
  "kernelspec": {
   "display_name": "Python 3 (Spyder)",
   "language": "python3",
   "name": "python3"
  },
  "language_info": {
   "codemirror_mode": {
    "name": "ipython",
    "version": 3
   },
   "file_extension": ".py",
   "mimetype": "text/x-python",
   "name": "python",
   "nbconvert_exporter": "python",
   "pygments_lexer": "ipython3",
   "version": "3.11.5"
  }
 },
 "nbformat": 4,
 "nbformat_minor": 5
}
