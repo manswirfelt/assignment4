{
 "cells": [
  {
   "cell_type": "markdown",
   "id": "ff03aa7d-85fe-44e9-ad19-19c845b9457c",
   "metadata": {},
   "source": [
    "# DABN13 - Assignment 2\n",
    "## Preamble: Predicting purchases in online shops. \n",
    "This assignment will be based on a dataset on online shopper purchase data which is available on the UC Irvine Machine Learning Library. A description of all variables is available [here  ](https://www.kaggle.com/henrysue/online-shoppers-intention). Among the 11 variables in the dataset, we will only use the three following:\n",
    "\n",
    " - **Revenue**: (TRUE/FALSE) Whether a purchase was made by a visitor to the online shop\n",
    " - **ProductRelated_Duration**: (numerical) Time spend on pages relevant/related to the product in question.\n",
    " - **ExitRate**: (numerical) The percentage of visits to the online shop that end with visiting the site of the product at issue.\n"
   ]
  },
  {
   "cell_type": "code",
   "execution_count": 137,
   "id": "6312ad4d-9bb5-4c6b-9aca-73068d5e3d83",
   "metadata": {},
   "outputs": [],
   "source": [
    "import numpy as np\n",
    "import pandas as pd\n",
    "import os\n",
    "import pyreadr as prdr"
   ]
  },
  {
   "cell_type": "markdown",
   "id": "90ff2b82-e37e-470d-a55f-16116de150c0",
   "metadata": {},
   "source": [
    "## Part 1: Logistic regression with `sklearn`\n",
    "\n",
    "In this basic part, we are getting some experience with using scikit-learn to learn logistic regressions. In the steps below, we will train a quite small logistic regression model with `Revenue` as output variable and the following inputs (in addition to the intercept):\n",
    "\n",
    "1. ` ExitRate ` without further transformation\n",
    "2. The (natural) logarithm of ` ProductRelated_Duration + 1 `"
   ]
  },
  {
   "cell_type": "markdown",
   "id": "9a17e9b0-43f6-490f-b292-2def4224a950",
   "metadata": {},
   "source": [
    "### Task 1a)\n",
    "First, we need to prepare our data. Conduct the following steps:\n",
    "\n",
    "1. Load the data into R and save it in an object called `shoppers`. The dataset is contained in a comma-separated spreadsheet. Accordingly, you will need to use the `read_csv()` command in Pandas.\n",
    "2. Use the `column` method on `shoppers` to change the variable name of `ExitRate` to `ER`. More specifically, you will need to rename a particular column of `shoppers`. \n",
    "3. Create a new variable `lPR_Dur` inside `shoppers` that contains the (natural) logarithm of  `ProductRelated_Duration + 1`."
   ]
  },
  {
   "cell_type": "code",
   "execution_count": 138,
   "id": "47c854c8-f1a6-4ff5-adb0-845ee7cf5cad",
   "metadata": {},
   "outputs": [
    {
     "data": {
      "text/html": [
       "<div>\n",
       "<style scoped>\n",
       "    .dataframe tbody tr th:only-of-type {\n",
       "        vertical-align: middle;\n",
       "    }\n",
       "\n",
       "    .dataframe tbody tr th {\n",
       "        vertical-align: top;\n",
       "    }\n",
       "\n",
       "    .dataframe thead th {\n",
       "        text-align: right;\n",
       "    }\n",
       "</style>\n",
       "<table border=\"1\" class=\"dataframe\">\n",
       "  <thead>\n",
       "    <tr style=\"text-align: right;\">\n",
       "      <th></th>\n",
       "      <th>Administrative</th>\n",
       "      <th>Administrative_Duration</th>\n",
       "      <th>Informational</th>\n",
       "      <th>Informational_Duration</th>\n",
       "      <th>ProductRelated</th>\n",
       "      <th>ProductRelated_Duration</th>\n",
       "      <th>BounceRates</th>\n",
       "      <th>ER</th>\n",
       "      <th>PageValues</th>\n",
       "      <th>SpecialDay</th>\n",
       "      <th>Month</th>\n",
       "      <th>OperatingSystems</th>\n",
       "      <th>Browser</th>\n",
       "      <th>Region</th>\n",
       "      <th>TrafficType</th>\n",
       "      <th>VisitorType</th>\n",
       "      <th>Weekend</th>\n",
       "      <th>Revenue</th>\n",
       "      <th>lPR_Dur</th>\n",
       "    </tr>\n",
       "  </thead>\n",
       "  <tbody>\n",
       "    <tr>\n",
       "      <th>0</th>\n",
       "      <td>0</td>\n",
       "      <td>0.0</td>\n",
       "      <td>0</td>\n",
       "      <td>0.0</td>\n",
       "      <td>1</td>\n",
       "      <td>0.000000</td>\n",
       "      <td>0.200000</td>\n",
       "      <td>0.200000</td>\n",
       "      <td>0.000000</td>\n",
       "      <td>0.0</td>\n",
       "      <td>Feb</td>\n",
       "      <td>1</td>\n",
       "      <td>1</td>\n",
       "      <td>1</td>\n",
       "      <td>1</td>\n",
       "      <td>Returning_Visitor</td>\n",
       "      <td>False</td>\n",
       "      <td>False</td>\n",
       "      <td>0.000000</td>\n",
       "    </tr>\n",
       "    <tr>\n",
       "      <th>1</th>\n",
       "      <td>0</td>\n",
       "      <td>0.0</td>\n",
       "      <td>0</td>\n",
       "      <td>0.0</td>\n",
       "      <td>2</td>\n",
       "      <td>64.000000</td>\n",
       "      <td>0.000000</td>\n",
       "      <td>0.100000</td>\n",
       "      <td>0.000000</td>\n",
       "      <td>0.0</td>\n",
       "      <td>Feb</td>\n",
       "      <td>2</td>\n",
       "      <td>2</td>\n",
       "      <td>1</td>\n",
       "      <td>2</td>\n",
       "      <td>Returning_Visitor</td>\n",
       "      <td>False</td>\n",
       "      <td>False</td>\n",
       "      <td>4.174387</td>\n",
       "    </tr>\n",
       "    <tr>\n",
       "      <th>2</th>\n",
       "      <td>0</td>\n",
       "      <td>0.0</td>\n",
       "      <td>0</td>\n",
       "      <td>0.0</td>\n",
       "      <td>1</td>\n",
       "      <td>0.000000</td>\n",
       "      <td>0.200000</td>\n",
       "      <td>0.200000</td>\n",
       "      <td>0.000000</td>\n",
       "      <td>0.0</td>\n",
       "      <td>Feb</td>\n",
       "      <td>4</td>\n",
       "      <td>1</td>\n",
       "      <td>9</td>\n",
       "      <td>3</td>\n",
       "      <td>Returning_Visitor</td>\n",
       "      <td>False</td>\n",
       "      <td>False</td>\n",
       "      <td>0.000000</td>\n",
       "    </tr>\n",
       "    <tr>\n",
       "      <th>3</th>\n",
       "      <td>0</td>\n",
       "      <td>0.0</td>\n",
       "      <td>0</td>\n",
       "      <td>0.0</td>\n",
       "      <td>2</td>\n",
       "      <td>2.666667</td>\n",
       "      <td>0.050000</td>\n",
       "      <td>0.140000</td>\n",
       "      <td>0.000000</td>\n",
       "      <td>0.0</td>\n",
       "      <td>Feb</td>\n",
       "      <td>3</td>\n",
       "      <td>2</td>\n",
       "      <td>2</td>\n",
       "      <td>4</td>\n",
       "      <td>Returning_Visitor</td>\n",
       "      <td>False</td>\n",
       "      <td>False</td>\n",
       "      <td>1.299283</td>\n",
       "    </tr>\n",
       "    <tr>\n",
       "      <th>4</th>\n",
       "      <td>0</td>\n",
       "      <td>0.0</td>\n",
       "      <td>0</td>\n",
       "      <td>0.0</td>\n",
       "      <td>10</td>\n",
       "      <td>627.500000</td>\n",
       "      <td>0.020000</td>\n",
       "      <td>0.050000</td>\n",
       "      <td>0.000000</td>\n",
       "      <td>0.0</td>\n",
       "      <td>Feb</td>\n",
       "      <td>3</td>\n",
       "      <td>3</td>\n",
       "      <td>1</td>\n",
       "      <td>4</td>\n",
       "      <td>Returning_Visitor</td>\n",
       "      <td>True</td>\n",
       "      <td>False</td>\n",
       "      <td>6.443336</td>\n",
       "    </tr>\n",
       "    <tr>\n",
       "      <th>...</th>\n",
       "      <td>...</td>\n",
       "      <td>...</td>\n",
       "      <td>...</td>\n",
       "      <td>...</td>\n",
       "      <td>...</td>\n",
       "      <td>...</td>\n",
       "      <td>...</td>\n",
       "      <td>...</td>\n",
       "      <td>...</td>\n",
       "      <td>...</td>\n",
       "      <td>...</td>\n",
       "      <td>...</td>\n",
       "      <td>...</td>\n",
       "      <td>...</td>\n",
       "      <td>...</td>\n",
       "      <td>...</td>\n",
       "      <td>...</td>\n",
       "      <td>...</td>\n",
       "      <td>...</td>\n",
       "    </tr>\n",
       "    <tr>\n",
       "      <th>12325</th>\n",
       "      <td>3</td>\n",
       "      <td>145.0</td>\n",
       "      <td>0</td>\n",
       "      <td>0.0</td>\n",
       "      <td>53</td>\n",
       "      <td>1783.791667</td>\n",
       "      <td>0.007143</td>\n",
       "      <td>0.029031</td>\n",
       "      <td>12.241717</td>\n",
       "      <td>0.0</td>\n",
       "      <td>Dec</td>\n",
       "      <td>4</td>\n",
       "      <td>6</td>\n",
       "      <td>1</td>\n",
       "      <td>1</td>\n",
       "      <td>Returning_Visitor</td>\n",
       "      <td>True</td>\n",
       "      <td>False</td>\n",
       "      <td>7.487057</td>\n",
       "    </tr>\n",
       "    <tr>\n",
       "      <th>12326</th>\n",
       "      <td>0</td>\n",
       "      <td>0.0</td>\n",
       "      <td>0</td>\n",
       "      <td>0.0</td>\n",
       "      <td>5</td>\n",
       "      <td>465.750000</td>\n",
       "      <td>0.000000</td>\n",
       "      <td>0.021333</td>\n",
       "      <td>0.000000</td>\n",
       "      <td>0.0</td>\n",
       "      <td>Nov</td>\n",
       "      <td>3</td>\n",
       "      <td>2</td>\n",
       "      <td>1</td>\n",
       "      <td>8</td>\n",
       "      <td>Returning_Visitor</td>\n",
       "      <td>True</td>\n",
       "      <td>False</td>\n",
       "      <td>6.145794</td>\n",
       "    </tr>\n",
       "    <tr>\n",
       "      <th>12327</th>\n",
       "      <td>0</td>\n",
       "      <td>0.0</td>\n",
       "      <td>0</td>\n",
       "      <td>0.0</td>\n",
       "      <td>6</td>\n",
       "      <td>184.250000</td>\n",
       "      <td>0.083333</td>\n",
       "      <td>0.086667</td>\n",
       "      <td>0.000000</td>\n",
       "      <td>0.0</td>\n",
       "      <td>Nov</td>\n",
       "      <td>3</td>\n",
       "      <td>2</td>\n",
       "      <td>1</td>\n",
       "      <td>13</td>\n",
       "      <td>Returning_Visitor</td>\n",
       "      <td>True</td>\n",
       "      <td>False</td>\n",
       "      <td>5.221706</td>\n",
       "    </tr>\n",
       "    <tr>\n",
       "      <th>12328</th>\n",
       "      <td>4</td>\n",
       "      <td>75.0</td>\n",
       "      <td>0</td>\n",
       "      <td>0.0</td>\n",
       "      <td>15</td>\n",
       "      <td>346.000000</td>\n",
       "      <td>0.000000</td>\n",
       "      <td>0.021053</td>\n",
       "      <td>0.000000</td>\n",
       "      <td>0.0</td>\n",
       "      <td>Nov</td>\n",
       "      <td>2</td>\n",
       "      <td>2</td>\n",
       "      <td>3</td>\n",
       "      <td>11</td>\n",
       "      <td>Returning_Visitor</td>\n",
       "      <td>False</td>\n",
       "      <td>False</td>\n",
       "      <td>5.849325</td>\n",
       "    </tr>\n",
       "    <tr>\n",
       "      <th>12329</th>\n",
       "      <td>0</td>\n",
       "      <td>0.0</td>\n",
       "      <td>0</td>\n",
       "      <td>0.0</td>\n",
       "      <td>3</td>\n",
       "      <td>21.250000</td>\n",
       "      <td>0.000000</td>\n",
       "      <td>0.066667</td>\n",
       "      <td>0.000000</td>\n",
       "      <td>0.0</td>\n",
       "      <td>Nov</td>\n",
       "      <td>3</td>\n",
       "      <td>2</td>\n",
       "      <td>1</td>\n",
       "      <td>2</td>\n",
       "      <td>New_Visitor</td>\n",
       "      <td>True</td>\n",
       "      <td>False</td>\n",
       "      <td>3.102342</td>\n",
       "    </tr>\n",
       "  </tbody>\n",
       "</table>\n",
       "<p>12330 rows × 19 columns</p>\n",
       "</div>"
      ],
      "text/plain": [
       "       Administrative  Administrative_Duration  Informational  \\\n",
       "0                   0                      0.0              0   \n",
       "1                   0                      0.0              0   \n",
       "2                   0                      0.0              0   \n",
       "3                   0                      0.0              0   \n",
       "4                   0                      0.0              0   \n",
       "...               ...                      ...            ...   \n",
       "12325               3                    145.0              0   \n",
       "12326               0                      0.0              0   \n",
       "12327               0                      0.0              0   \n",
       "12328               4                     75.0              0   \n",
       "12329               0                      0.0              0   \n",
       "\n",
       "       Informational_Duration  ProductRelated  ProductRelated_Duration  \\\n",
       "0                         0.0               1                 0.000000   \n",
       "1                         0.0               2                64.000000   \n",
       "2                         0.0               1                 0.000000   \n",
       "3                         0.0               2                 2.666667   \n",
       "4                         0.0              10               627.500000   \n",
       "...                       ...             ...                      ...   \n",
       "12325                     0.0              53              1783.791667   \n",
       "12326                     0.0               5               465.750000   \n",
       "12327                     0.0               6               184.250000   \n",
       "12328                     0.0              15               346.000000   \n",
       "12329                     0.0               3                21.250000   \n",
       "\n",
       "       BounceRates        ER  PageValues  SpecialDay Month  OperatingSystems  \\\n",
       "0         0.200000  0.200000    0.000000         0.0   Feb                 1   \n",
       "1         0.000000  0.100000    0.000000         0.0   Feb                 2   \n",
       "2         0.200000  0.200000    0.000000         0.0   Feb                 4   \n",
       "3         0.050000  0.140000    0.000000         0.0   Feb                 3   \n",
       "4         0.020000  0.050000    0.000000         0.0   Feb                 3   \n",
       "...            ...       ...         ...         ...   ...               ...   \n",
       "12325     0.007143  0.029031   12.241717         0.0   Dec                 4   \n",
       "12326     0.000000  0.021333    0.000000         0.0   Nov                 3   \n",
       "12327     0.083333  0.086667    0.000000         0.0   Nov                 3   \n",
       "12328     0.000000  0.021053    0.000000         0.0   Nov                 2   \n",
       "12329     0.000000  0.066667    0.000000         0.0   Nov                 3   \n",
       "\n",
       "       Browser  Region  TrafficType        VisitorType  Weekend  Revenue  \\\n",
       "0            1       1            1  Returning_Visitor    False    False   \n",
       "1            2       1            2  Returning_Visitor    False    False   \n",
       "2            1       9            3  Returning_Visitor    False    False   \n",
       "3            2       2            4  Returning_Visitor    False    False   \n",
       "4            3       1            4  Returning_Visitor     True    False   \n",
       "...        ...     ...          ...                ...      ...      ...   \n",
       "12325        6       1            1  Returning_Visitor     True    False   \n",
       "12326        2       1            8  Returning_Visitor     True    False   \n",
       "12327        2       1           13  Returning_Visitor     True    False   \n",
       "12328        2       3           11  Returning_Visitor    False    False   \n",
       "12329        2       1            2        New_Visitor     True    False   \n",
       "\n",
       "        lPR_Dur  \n",
       "0      0.000000  \n",
       "1      4.174387  \n",
       "2      0.000000  \n",
       "3      1.299283  \n",
       "4      6.443336  \n",
       "...         ...  \n",
       "12325  7.487057  \n",
       "12326  6.145794  \n",
       "12327  5.221706  \n",
       "12328  5.849325  \n",
       "12329  3.102342  \n",
       "\n",
       "[12330 rows x 19 columns]"
      ]
     },
     "execution_count": 138,
     "metadata": {},
     "output_type": "execute_result"
    }
   ],
   "source": [
    "# os.chdir('C:\\\\Users\\\\??') # Chane working directory if needed\n",
    "\n",
    "# 1.\n",
    "shoppers = pd.read_csv(\"online_shoppers_intention.csv\")\n",
    "\n",
    "# 2.\n",
    "shoppers.rename(columns={'ExitRates': 'ER'}, inplace=True)\n",
    "\n",
    "# 3.\n",
    "shoppers['lPR_Dur'] = np.log(shoppers['ProductRelated_Duration'] + 1)\n",
    "\n",
    "shoppers"
   ]
  },
  {
   "cell_type": "code",
   "execution_count": 139,
   "id": "9544a5c1",
   "metadata": {},
   "outputs": [
    {
     "data": {
      "text/plain": [
       "False    10422\n",
       "True      1908\n",
       "Name: Revenue, dtype: int64"
      ]
     },
     "execution_count": 139,
     "metadata": {},
     "output_type": "execute_result"
    }
   ],
   "source": [
    "shoppers['Revenue'].value_counts()"
   ]
  },
  {
   "cell_type": "markdown",
   "id": "ecc7f533-7912-45b8-a8e0-3536a6bd0dcc",
   "metadata": {},
   "source": [
    "### Task 1b)\n",
    "\n",
    "Technically, we could use the `statsmodels` package to learn a logistic regressions. However, the functionality of `statsmodels` addresses applications in classical statistics rather than machine learning. Since we want to use logistic regression as a supervised learning algorithm in order to predict the output of new data points, it is much wiser to switch to scikit-learn (`sklearn`). `sklearn` provides you with simple functions that implement model training, tuning and validation and therefore covers the entire spectrum of standard methods in supervised learning.\n",
    "\n",
    "Learning a logistic regression with `sklearn` works almost identically as with `statsmodels`. Do it as follows: \n",
    "\n",
    "1. Create a  Pandas series `y_1b` that contains the `Revenue` variable from `shoppers`\n",
    "2. Create a similar data frame `X_1b` whose columns are  ` ER `, ` lPR_Dur ` and the square of `lPR_Dur`.\n",
    "3. Instantiate a logistic regression model using the `LogisticRegression()` function from the `linear_model` module and save this model specification as `glm_spec_1b`. The function has an argument `penalty`. Set this argument to `None`. Furthermore ensure that an intercept is automatically added to the input variables.\n",
    "4. Apply the `fit()`-method to `glm_spec_1b` to learn the model and save the learned model as `glm_fit_1b`. Here, specify that the model is learned using with inputs `X_1b` and output `y_1b`.\n"
   ]
  },
  {
   "cell_type": "code",
   "execution_count": 140,
   "id": "4b4a8d78-597a-459f-bc78-0c38fd3f3d8a",
   "metadata": {},
   "outputs": [
    {
     "name": "stdout",
     "output_type": "stream",
     "text": [
      "[[-32.63987528  -0.58940172   0.06451171]] [0.16879732]\n"
     ]
    }
   ],
   "source": [
    "from sklearn.linear_model import LogisticRegression\n",
    "\n",
    "# 1.\n",
    "y_1b = pd.Series(shoppers['Revenue'])\n",
    "\n",
    "\n",
    "# 2.\n",
    "X_1b = pd.DataFrame()\n",
    "X_1b['ER'] = shoppers['ER']\n",
    "X_1b['lPR_Dur'] = shoppers['lPR_Dur']\n",
    "X_1b['square_lPR_Dur'] = np.square(shoppers['lPR_Dur'])\n",
    "\n",
    "# 3.\n",
    "from sklearn.linear_model import LogisticRegression\n",
    "glm_spec_1b = LogisticRegression(penalty = None, fit_intercept = True)\n",
    "\n",
    "# 4.\n",
    "glm_fit_1b  = glm_spec_1b.fit(X_1b, y_1b)\n",
    "\n",
    "print(glm_fit_1b.coef_, glm_fit_1b.intercept_)"
   ]
  },
  {
   "cell_type": "markdown",
   "id": "36efb034-a558-4904-b5ae-613e5a03e175",
   "metadata": {},
   "source": [
    "### Task 1c) \n",
    "A fundamental principle of machine learning is that we divide the data available to us into different sets which we use for learning, model tuning and algorithm choice. \n",
    "\n",
    "`sklearn` makes this very simple for us since its `model_selection`-module contains the `train_test_split()` function. It returns splitted versions of all objects that you provide as inputs. I prepared a preliminary code chunk below that shows how you need to specify the desired splitted objects. Complete the code chunk by entering the inputs to `train_test_split()`. More specifically, provide\n",
    "\n",
    "1. the data objects before splitting in correct order,\n",
    "2. an argument that allocates 50% of all data points to the training data\n",
    "3. an argument that sets the initial state of the random number generator to 3 (we need this to ensure replicability). \n"
   ]
  },
  {
   "cell_type": "code",
   "execution_count": 141,
   "id": "eb3ddaf8-10e3-4bb2-860a-3986e89c4187",
   "metadata": {},
   "outputs": [],
   "source": [
    "from sklearn.model_selection import train_test_split\n",
    "\n",
    "X_1b_train, X_1b_test, y_1b_train, y_1b_test = train_test_split(X_1b, y_1b, test_size=0.5, random_state = 3)"
   ]
  },
  {
   "cell_type": "markdown",
   "id": "effd7a7e-7be6-459a-918d-6fae1dcde2f2",
   "metadata": {},
   "source": [
    "### Task 1d)\n",
    "Now, please refit the model from Task 1a using only your training data from Task 1c. Save the resulting learned model as `glm_fit_1d`."
   ]
  },
  {
   "cell_type": "code",
   "execution_count": 142,
   "id": "befc1502-1faf-436b-8624-575f88426474",
   "metadata": {},
   "outputs": [
    {
     "name": "stdout",
     "output_type": "stream",
     "text": [
      "[[-32.23990095  -0.68454114   0.07092482]] [0.50609387]\n"
     ]
    }
   ],
   "source": [
    "glm_fit_1d =  glm_spec_1b.fit(X_1b_train, y_1b_train)\n",
    "\n",
    "print(glm_fit_1d.coef_, glm_fit_1d.intercept_)\n"
   ]
  },
  {
   "cell_type": "markdown",
   "id": "2fa53b29-6bd5-40c0-a880-7580c943dba6",
   "metadata": {},
   "source": [
    "### Task 1e) \n",
    "Now that we have fitted our model, we want to evaluate its predictive performance on hold-out validation data. We have already created this test data in Task 1c as `y_1b_test` and `X_1b_test.`\n",
    "\n",
    "Before we can evaluate model performance, we first need to obtain predicted probabilities for purchases on the test data. Use the ` predict_proba() `-method on `glm_fit_1d` to obtain such predicted conditional probabilities from the model fit in Task 1d on the observations in our test set. Save them as `glm_prob_1e`\n",
    "\n",
    "According to the sklearn documentation, the columns of `glm_prob_1e` contain class probabilities where classes are ordered as they are in `glm_fit_1d.classes_`. Which column index contains the probabilities for class `True`? Write your answer into the string variable `which_column_truepreds_1e`\n",
    "\n"
   ]
  },
  {
   "cell_type": "code",
   "execution_count": 143,
   "id": "b34d0b8b-edc7-469d-96ab-f085dae9eff6",
   "metadata": {},
   "outputs": [],
   "source": [
    "glm_prob_1e = glm_fit_1d.predict_proba(X_1b_test)[:, 1]\n",
    "\n",
    "# Find the index of the class labeled as \"True\" (assuming classes are integers)\n",
    "which_column_truepreds_1e = glm_fit_1d.classes_.tolist().index(True)\n",
    "\n",
    "which_column_truepreds_1e = \"Column index 1\""
   ]
  },
  {
   "cell_type": "markdown",
   "id": "68324b30-692c-426c-bd3c-45f27dac2795",
   "metadata": {},
   "source": [
    "### Task 1f)\n",
    "In a next step, we apply a classification rule to map our predicted probabilities into class predictions. Our classification rule is to predict the most likely class.\n",
    "\n",
    "First, create a new vector ` glm_pred_1f ` which has as many elements as ` glm_prob_1e ` and which consists entirely of the logical statement `False` (without citation marks!) \n",
    "\n",
    "Second, replace `False` in ` glm_pred_1f ` with `True` for all elements where the corresponding predicted probability for category `True` exceeds the threshold used for the classifier mentioned above. You can do this by indexing `glm_pred_1e` using square brackets. Simply write a true-or-false (or logical) statement in the square brackets. For rows where it is true, the value of ` glm_pred_1f ` will be changed.\n",
    "\n",
    "Please additionally write the true-or-false statement that you use into the string variable ` logical_1f ` for the sake of making assignment evaluation simpler for us.\n",
    "\n",
    "*Note:* We could even get class predictions by applying the `predict()`-method to `glm_fit_1d`. However, that does not allow us to fully control the classification rule."
   ]
  },
  {
   "cell_type": "code",
   "execution_count": 144,
   "id": "2427d51e-44ba-4161-9aa2-06271d84e182",
   "metadata": {},
   "outputs": [
    {
     "name": "stdout",
     "output_type": "stream",
     "text": [
      "(array([False,  True]), array([6150,   15]))\n"
     ]
    }
   ],
   "source": [
    "# 1.\n",
    "glm_pred_1f = [False] * len(glm_prob_1e)\n",
    "\n",
    "# 2.\n",
    "threshold = 0.5\n",
    "\n",
    "glm_pred_1f = np.array(glm_pred_1f)\n",
    "\n",
    "# Apply the threshold to the predicted probabilities (1D condition)\n",
    "condition = glm_prob_1e > threshold\n",
    "\n",
    "glm_pred_1f[condition] = True\n",
    "\n",
    "# 3.\n",
    "print(np.unique(glm_pred_1f, return_counts=True))\n",
    "\n"
   ]
  },
  {
   "cell_type": "markdown",
   "id": "0dfa8cef-d6a3-4822-97cb-5c46cd8097d1",
   "metadata": {},
   "source": [
    "### Task 1g)\n",
    "Choose an appropriate error function and write its name in the string variable `chosenerrfun_1g`. Then, use the objects created in the previous tasks of this part to obtain (overall) test error for the logistic regression model fitted in Task 1d."
   ]
  },
  {
   "cell_type": "code",
   "execution_count": 145,
   "id": "0d24da15-606a-4cef-82ad-16ae14da6c6e",
   "metadata": {},
   "outputs": [
    {
     "name": "stdout",
     "output_type": "stream",
     "text": [
      "Misclassification Error: 0.1551\n"
     ]
    }
   ],
   "source": [
    "misclassified_count = np.sum(glm_pred_1f != y_1b_test)\n",
    "total_instances = len(y_1b_test) \n",
    "\n",
    "misclassification_error = misclassified_count / total_instances\n",
    "\n",
    "chosenerrfun_1g = \"Misclassification Error\"\n",
    "\n",
    "print(f\"{chosenerrfun_1g}: {misclassification_error:.4f}\")"
   ]
  },
  {
   "cell_type": "markdown",
   "id": "338e0142-c9f6-4e87-b998-bd092842e92a",
   "metadata": {},
   "source": [
    "## Part 2: Class-specific prediction errors\n",
    "\n",
    "This part is more advanced than parts 1 and 3. In classification problems, overall test error may not always be our primary concern. To get a more differentiated picture, confusion matrices and the ROC curve are useful tools. We will get both using the metric module of Scikit-learn which provides a large number of performance criteria for binary classification. \n"
   ]
  },
  {
   "cell_type": "markdown",
   "id": "f1debb5b-e443-400a-845d-b5b67c4c34d0",
   "metadata": {},
   "source": [
    "### Task 2a)\n",
    "A basic confusion matrix can easily be obtained using the `confusion_matrix` function of `sklearn.metrics`. This function only requires two inputs:\n",
    "\n",
    "1. The test outcomes\n",
    "2. The predicted class on the test set.\n",
    "\n",
    "Obtain the confusion matrix and save it as `confumat_2a`."
   ]
  },
  {
   "cell_type": "code",
   "execution_count": 146,
   "metadata": {},
   "outputs": [
    {
     "name": "stdout",
     "output_type": "stream",
     "text": [
      "[[5204   10]\n",
      " [ 946    5]]\n"
     ]
    }
   ],
   "source": [
    "from sklearn.metrics import confusion_matrix\n",
    "\n",
    "confumat_2a = confusion_matrix(y_1b_test, glm_pred_1f)\n",
    "\n",
    "print(confumat_2a)\n"
   ]
  },
  {
   "cell_type": "markdown",
   "id": "4f8d7315-4754-4637-bad2-90715cc2b8cc",
   "metadata": {},
   "source": [
    "### Task 2b)\n",
    "The confusion matrix obtained in the last task is rather rudimentary. For this reason, we are now going to write a function which produces a more luxurious confusion matrix with additional performance measures. \n",
    "\n",
    "Below, I prepared a function that takes a true outcomes, predicted probabilities for the category of interest and a desired threshold probability for the classification rule as inputs and returns a dictionary object containing the corresponding confusion matrix, TPR, FPR and overall classification error. All that is left for you is the following tasks:\n",
    "\n",
    "1. Specify the row and column names of the confusion matrix correctly\n",
    "2. Use the four elements of `cmat` to calculate `FPR`, `TPR` and the classification error `error`."
   ]
  },
  {
   "cell_type": "code",
   "execution_count": 147,
   "id": "a72c23f2-24e8-45e6-b871-f189b96b97a9",
   "metadata": {},
   "outputs": [],
   "source": [
    "def  performancemetrics(y_true, y_prob, cutoff):\n",
    "    # Don't change the 2 rows below\n",
    "    y_pred       = np.greater(y_prob,cutoff)\n",
    "    cmat         = confusion_matrix(y_true,y_pred)\n",
    "\n",
    "    # 1.\n",
    "    column_names = [\"TN\", \"FN\"]\n",
    "    row_names    = [\"FP\", \"TP\"]\n",
    "\n",
    "    TN = cmat[0, 0]  # True negative\n",
    "    FN = cmat[1, 0]  # False negative\n",
    "    FP = cmat[0, 1]  # False positive\n",
    "    TP = cmat[1, 1]  # True positive\n",
    "\n",
    "    # 2.\n",
    "    FPR = FP / (FP + TN)\n",
    "    TPR = TP / (TP + FN)\n",
    "    error = (FP + FN) / (TP + TN + FP + FN)\n",
    "    \n",
    "    # Don't change the two lines below\n",
    "    cmat         = pd.DataFrame(cmat, columns=column_names, index=row_names)\n",
    "    allresults = {'confusion_matrix': cmat, 'FPR':FPR, \"TPR\":TPR, 'classification_error':error}\n",
    "    return(allresults)"
   ]
  },
  {
   "cell_type": "markdown",
   "id": "436d2641-3b7a-4f39-baed-254eaa8d2a19",
   "metadata": {},
   "source": [
    "### Task 2c)\n",
    "\n",
    "Now save as `metrics_2c` the output of `performancemetrics()` with the prediction object of task 2a and a threshold probability of 50% as input. Additionally, answer two questions:\n",
    "\n",
    "1. Are you satisfied with the overall accuracy with which our model predicts purchases?\n",
    "2. Is the accuracy with which observed purchases are correctly predicted satisfactory? Assume here that we have considerable interest in predicting actual purchases correctly."
   ]
  },
  {
   "cell_type": "code",
   "execution_count": 148,
   "id": "7c2316ca-c3d5-4627-b76e-885e5ee8fd5b",
   "metadata": {},
   "outputs": [
    {
     "name": "stdout",
     "output_type": "stream",
     "text": [
      "{'confusion_matrix':       TN  FN\n",
      "FP  5204  10\n",
      "TP   946   5, 'FPR': 0.0019179133103183737, 'TPR': 0.005257623554153523, 'classification_error': 0.15506893755068937}\n"
     ]
    }
   ],
   "source": [
    "metrics_2c = performancemetrics(y_1b_test, glm_pred_1f, threshold)\n",
    "print(metrics_2c)\n",
    "overall_acc_verdict2c      = \"??\" #Need to answer this one\n",
    "obs_purchase_acc_verdict2c = \"??\" #Need to answer this one"
   ]
  },
  {
   "cell_type": "markdown",
   "id": "ede8e85a-d080-4767-ad6b-a9ea49984797",
   "metadata": {},
   "source": [
    "### Task 2d)\n",
    "\n",
    "Assume we would like to get a classifier that has relatively balanced class-specific performance. In other words, we want to choose a threshold such that TPR is approximately 1-FPR. In order to see the trade-offs that are available to us, we will look at a ROC curve.\n",
    "\n",
    "ROC curves can be plotted using the `RocCurveDisplay.from_predictions()` function in the sklearn metrics module. The inputs to this function are \n",
    "\n",
    "1. The test outcomes\n",
    "2. The predicted probabilities for class 1 on the test set.\n",
    "\n",
    "Use the code chunk below to plot a ROC curve. Then proceed with the rest of this task in the following text block."
   ]
  },
  {
   "cell_type": "code",
   "execution_count": 149,
   "id": "46ebc0c1",
   "metadata": {},
   "outputs": [
    {
     "data": {
      "image/png": "[encoded data removed]",
      "text/plain": [
       "<Figure size 640x480 with 1 Axes>"
      ]
     },
     "metadata": {},
     "output_type": "display_data"
    }
   ],
   "source": [
    "from sklearn import metrics\n",
    "from sklearn.metrics import RocCurveDisplay\n",
    "\n",
    "roc_display = RocCurveDisplay.from_estimator(glm_fit_1d, X_1b_test, y_1b_test)"
   ]
  },
  {
   "cell_type": "markdown",
   "id": "996fd071-e433-4b7d-82a6-f7ae9ac67ba0",
   "metadata": {},
   "source": [
    "Unfortunately, the plotted ROC curve does not indicate the threshold value leading to a particular point on the curve. Fortunately, the information contained in a ROC curve can be obtained using the `roc_curve()` function in the sklearn metrics module.\n",
    "\n",
    "The inputs to  `roc_curve()` are true outputs and the predicted probabilities for class 1. Use the corresponding series from Part 1 of this assignment as function inputs and save the result as `roc_fpr_2d`, `roc_tpr_2d` and `roc_thresholds_2d`.\n",
    "\n",
    "Next, find the the threshold that balances class-specific performance best. You could do that by finding the index at which TPR and (1-FPR) are as close are possible. Then you simply return the value of `roc_thresholds_2d` at this index. State your chosen threshold in the  variable `opt_threshold_2d`. Round to two decimals, if needed."
   ]
  },
  {
   "cell_type": "code",
   "execution_count": 150,
   "id": "c7cd9f1e-9478-4064-a260-92ede98f9a14",
   "metadata": {},
   "outputs": [
    {
     "name": "stdout",
     "output_type": "stream",
     "text": [
      "0.15956585056346786\n"
     ]
    }
   ],
   "source": [
    "from sklearn.metrics import roc_curve, auc\n",
    "\n",
    "# 1.\n",
    "roc_fpr_2d, roc_tpr_2d, roc_thresholds_2d = roc_curve(y_1b_test, glm_prob_1e)\n",
    "\n",
    "# 2.\n",
    "opt_threshold_2d = roc_thresholds_2d[np.argmax(roc_tpr_2d - roc_fpr_2d)]\n",
    "\n",
    "print(opt_threshold_2d)\n"
   ]
  },
  {
   "cell_type": "markdown",
   "id": "c3741fe7-a150-4ad2-b775-96e28809e13a",
   "metadata": {},
   "source": [
    "### Task 2e)\n",
    "To what extend does our chosen threshold from Task 2d compromise overall accuracy? To find this out, use your `performancemetrics()` function from Task 2b and save the output that you get with the threshold chosen in Task 2d as `metrics_2e`.\n",
    "\n",
    "Then, use the string variable `is_accuracy_compromised_2e` to discuss whether overall accuracy is noteably affected if we switch from a threshold probability of 50% to a value that balances class-specific prediction performance."
   ]
  },
  {
   "cell_type": "code",
   "execution_count": 151,
   "id": "f00e8b82-ac50-40fa-a2ff-0087412ff7de",
   "metadata": {},
   "outputs": [
    {
     "name": "stdout",
     "output_type": "stream",
     "text": [
      "{'confusion_matrix':       TN    FN\n",
      "FP  2965  2249\n",
      "TP   222   729, 'FPR': 0.4313387034906022, 'TPR': 0.7665615141955836, 'classification_error': 0.4008110300081103}\n"
     ]
    }
   ],
   "source": [
    "metrics_2e = performancemetrics(y_1b_test, glm_prob_1e, opt_threshold_2d)\n",
    "print(metrics_2e)\n",
    "\n",
    "is_accuracy_compromised_2e = \"??\" #Comment on the output\n"
   ]
  },
  {
   "cell_type": "markdown",
   "id": "d1d68ce5-28c7-472b-a1e3-07f1dc5dfc79",
   "metadata": {},
   "source": [
    "## Part 3: Multiclass logistic regression with `sklearn`\n",
    "\n",
    "We can use the `LogisticRegression` function from `sklearn` to learn models whose output variable has more than two categories. The data we are using to learn a multiclass logistic regression is drug consumption data. Our response variable is usage of drugs (Cocaine , Crack, Ecstasy, and Heroin) and we have three possible responses, \"never used\", \"used more than a year ago\", and \"used within a year\". As explanatory variables we have personality test data, demographic data, and consumption of chocolate, alcohol, and nicotine."
   ]
  },
  {
   "cell_type": "markdown",
   "id": "c44c0298-afb6-4b7d-b32d-15610d67931f",
   "metadata": {},
   "source": [
    "### Task 3a)\n",
    "\n",
    "Conduct the following steps to prepare your data:\n",
    "\n",
    "1. Load `drug_train.RDS` using the `read_r()` function in the `pyreadr` package and save it as a data frame `drug_data`. \n",
    "2. Extract the variable *drugs.usage* into a Pandas series called `y_3a`\n",
    "3. Create a Pandas dataframe `X_3a` containing all other variables in `drug_data`.  Note that you will need to transform categorical variables into indicator variables, e.g. using the `get_dummies()` function in Pandas."
   ]
  },
  {
   "cell_type": "code",
   "execution_count": 174,
   "id": "27776fed-bcd9-4b01-8ba2-ec14d9d4b846",
   "metadata": {},
   "outputs": [
    {
     "data": {
      "text/html": [
       "<div>\n",
       "<style scoped>\n",
       "    .dataframe tbody tr th:only-of-type {\n",
       "        vertical-align: middle;\n",
       "    }\n",
       "\n",
       "    .dataframe tbody tr th {\n",
       "        vertical-align: top;\n",
       "    }\n",
       "\n",
       "    .dataframe thead th {\n",
       "        text-align: right;\n",
       "    }\n",
       "</style>\n",
       "<table border=\"1\" class=\"dataframe\">\n",
       "  <thead>\n",
       "    <tr style=\"text-align: right;\">\n",
       "      <th></th>\n",
       "      <th>Chocolate.consumption</th>\n",
       "      <th>Alcohol.consumption</th>\n",
       "      <th>Nicotine.consumption</th>\n",
       "      <th>Age</th>\n",
       "      <th>Gender</th>\n",
       "      <th>Education</th>\n",
       "      <th>Country</th>\n",
       "      <th>Ethnicity</th>\n",
       "      <th>Neuroticism</th>\n",
       "      <th>Extraversion</th>\n",
       "      <th>Openness.to.experience</th>\n",
       "      <th>Agreeableness</th>\n",
       "      <th>Conscientiousness</th>\n",
       "      <th>Impulsiveness</th>\n",
       "      <th>Sensation.seeking</th>\n",
       "      <th>Fictitious.drug.Semeron.consumption</th>\n",
       "      <th>drugs.usage</th>\n",
       "    </tr>\n",
       "  </thead>\n",
       "  <tbody>\n",
       "    <tr>\n",
       "      <th>0</th>\n",
       "      <td>more than a year ago</td>\n",
       "      <td>more than a year ago</td>\n",
       "      <td>more than a year ago</td>\n",
       "      <td>-0.95197</td>\n",
       "      <td>-0.48246</td>\n",
       "      <td>0.45468</td>\n",
       "      <td>-0.57009</td>\n",
       "      <td>White</td>\n",
       "      <td>0.13606</td>\n",
       "      <td>-0.94779</td>\n",
       "      <td>1.06238</td>\n",
       "      <td>-1.92595</td>\n",
       "      <td>0.75830</td>\n",
       "      <td>-0.21712</td>\n",
       "      <td>-0.52593</td>\n",
       "      <td>never used</td>\n",
       "      <td>never used</td>\n",
       "    </tr>\n",
       "    <tr>\n",
       "      <th>1</th>\n",
       "      <td>more than a year ago</td>\n",
       "      <td>more than a year ago</td>\n",
       "      <td>more than a year ago</td>\n",
       "      <td>-0.95197</td>\n",
       "      <td>0.48246</td>\n",
       "      <td>-0.61113</td>\n",
       "      <td>-0.57009</td>\n",
       "      <td>White</td>\n",
       "      <td>0.62967</td>\n",
       "      <td>0.63779</td>\n",
       "      <td>2.90161</td>\n",
       "      <td>-1.07533</td>\n",
       "      <td>0.93949</td>\n",
       "      <td>0.88113</td>\n",
       "      <td>1.22470</td>\n",
       "      <td>never used</td>\n",
       "      <td>more than a year ago</td>\n",
       "    </tr>\n",
       "    <tr>\n",
       "      <th>2</th>\n",
       "      <td>more than a year ago</td>\n",
       "      <td>more than a year ago</td>\n",
       "      <td>more than a year ago</td>\n",
       "      <td>0.49788</td>\n",
       "      <td>-0.48246</td>\n",
       "      <td>-0.61113</td>\n",
       "      <td>0.96082</td>\n",
       "      <td>White</td>\n",
       "      <td>-1.32828</td>\n",
       "      <td>0.00332</td>\n",
       "      <td>-1.27553</td>\n",
       "      <td>-0.60633</td>\n",
       "      <td>0.12331</td>\n",
       "      <td>0.88113</td>\n",
       "      <td>0.76540</td>\n",
       "      <td>never used</td>\n",
       "      <td>within a year</td>\n",
       "    </tr>\n",
       "    <tr>\n",
       "      <th>3</th>\n",
       "      <td>more than a year ago</td>\n",
       "      <td>more than a year ago</td>\n",
       "      <td>never used</td>\n",
       "      <td>1.09449</td>\n",
       "      <td>0.48246</td>\n",
       "      <td>1.16365</td>\n",
       "      <td>0.96082</td>\n",
       "      <td>White</td>\n",
       "      <td>-0.79151</td>\n",
       "      <td>0.96248</td>\n",
       "      <td>-1.11902</td>\n",
       "      <td>0.94156</td>\n",
       "      <td>0.41594</td>\n",
       "      <td>0.19268</td>\n",
       "      <td>0.40148</td>\n",
       "      <td>never used</td>\n",
       "      <td>never used</td>\n",
       "    </tr>\n",
       "    <tr>\n",
       "      <th>4</th>\n",
       "      <td>more than a year ago</td>\n",
       "      <td>more than a year ago</td>\n",
       "      <td>never used</td>\n",
       "      <td>-0.95197</td>\n",
       "      <td>0.48246</td>\n",
       "      <td>0.45468</td>\n",
       "      <td>0.96082</td>\n",
       "      <td>White</td>\n",
       "      <td>-0.24649</td>\n",
       "      <td>0.00332</td>\n",
       "      <td>1.06238</td>\n",
       "      <td>0.59042</td>\n",
       "      <td>2.04506</td>\n",
       "      <td>-0.71126</td>\n",
       "      <td>-0.52593</td>\n",
       "      <td>never used</td>\n",
       "      <td>never used</td>\n",
       "    </tr>\n",
       "  </tbody>\n",
       "</table>\n",
       "</div>"
      ],
      "text/plain": [
       "  Chocolate.consumption   Alcohol.consumption  Nicotine.consumption      Age  \\\n",
       "0  more than a year ago  more than a year ago  more than a year ago -0.95197   \n",
       "1  more than a year ago  more than a year ago  more than a year ago -0.95197   \n",
       "2  more than a year ago  more than a year ago  more than a year ago  0.49788   \n",
       "3  more than a year ago  more than a year ago            never used  1.09449   \n",
       "4  more than a year ago  more than a year ago            never used -0.95197   \n",
       "\n",
       "    Gender  Education  Country Ethnicity  Neuroticism  Extraversion  \\\n",
       "0 -0.48246    0.45468 -0.57009     White      0.13606      -0.94779   \n",
       "1  0.48246   -0.61113 -0.57009     White      0.62967       0.63779   \n",
       "2 -0.48246   -0.61113  0.96082     White     -1.32828       0.00332   \n",
       "3  0.48246    1.16365  0.96082     White     -0.79151       0.96248   \n",
       "4  0.48246    0.45468  0.96082     White     -0.24649       0.00332   \n",
       "\n",
       "   Openness.to.experience  Agreeableness  Conscientiousness  Impulsiveness  \\\n",
       "0                 1.06238       -1.92595            0.75830       -0.21712   \n",
       "1                 2.90161       -1.07533            0.93949        0.88113   \n",
       "2                -1.27553       -0.60633            0.12331        0.88113   \n",
       "3                -1.11902        0.94156            0.41594        0.19268   \n",
       "4                 1.06238        0.59042            2.04506       -0.71126   \n",
       "\n",
       "   Sensation.seeking Fictitious.drug.Semeron.consumption           drugs.usage  \n",
       "0           -0.52593                          never used            never used  \n",
       "1            1.22470                          never used  more than a year ago  \n",
       "2            0.76540                          never used         within a year  \n",
       "3            0.40148                          never used            never used  \n",
       "4           -0.52593                          never used            never used  "
      ]
     },
     "execution_count": 174,
     "metadata": {},
     "output_type": "execute_result"
    }
   ],
   "source": [
    "# 1.\n",
    "drug_data = prdr.read_r('drug_train.RDS')\n",
    "drug_data = drug_data[None]\n",
    "\n",
    "# 2.\n",
    "y_3a = drug_data['drugs.usage']\n",
    "\n",
    "# 3.\n",
    "X_3a = pd.get_dummies(drug_data.drop(columns = ['drugs.usage']))\n",
    "\n",
    "drug_data.head()"
   ]
  },
  {
   "cell_type": "markdown",
   "id": "ab1f2eb6-7279-431a-8341-a052389e69d5",
   "metadata": {},
   "source": [
    "### Task 3b)\n",
    "\n",
    "Specify and learn fit a multinomial logistic regression using `LogisticRegression()`. In the specification, choose no penalty and make sure an intercept is added. Additionally, set the `multi_class` argument to `'multinomial'`. Lastly, increase the number of iterations if this is needed for the learning algorithm to converge.\n",
    "\n",
    "Save the resulting object as `mlogit_fit_3b`."
   ]
  },
  {
   "cell_type": "code",
   "execution_count": 175,
   "id": "d1be9547-16aa-4004-9282-c14e267f3909",
   "metadata": {},
   "outputs": [
    {
     "data": {
      "text/html": [
       "<style>#sk-container-id-5 {color: black;background-color: white;}#sk-container-id-5 pre{padding: 0;}#sk-container-id-5 div.sk-toggleable {background-color: white;}#sk-container-id-5 label.sk-toggleable__label {cursor: pointer;display: block;width: 100%;margin-bottom: 0;padding: 0.3em;box-sizing: border-box;text-align: center;}#sk-container-id-5 label.sk-toggleable__label-arrow:before {content: \"▸\";float: left;margin-right: 0.25em;color: #696969;}#sk-container-id-5 label.sk-toggleable__label-arrow:hover:before {color: black;}#sk-container-id-5 div.sk-estimator:hover label.sk-toggleable__label-arrow:before {color: black;}#sk-container-id-5 div.sk-toggleable__content {max-height: 0;max-width: 0;overflow: hidden;text-align: left;background-color: #f0f8ff;}#sk-container-id-5 div.sk-toggleable__content pre {margin: 0.2em;color: black;border-radius: 0.25em;background-color: #f0f8ff;}#sk-container-id-5 input.sk-toggleable__control:checked~div.sk-toggleable__content {max-height: 200px;max-width: 100%;overflow: auto;}#sk-container-id-5 input.sk-toggleable__control:checked~label.sk-toggleable__label-arrow:before {content: \"▾\";}#sk-container-id-5 div.sk-estimator input.sk-toggleable__control:checked~label.sk-toggleable__label {background-color: #d4ebff;}#sk-container-id-5 div.sk-label input.sk-toggleable__control:checked~label.sk-toggleable__label {background-color: #d4ebff;}#sk-container-id-5 input.sk-hidden--visually {border: 0;clip: rect(1px 1px 1px 1px);clip: rect(1px, 1px, 1px, 1px);height: 1px;margin: -1px;overflow: hidden;padding: 0;position: absolute;width: 1px;}#sk-container-id-5 div.sk-estimator {font-family: monospace;background-color: #f0f8ff;border: 1px dotted black;border-radius: 0.25em;box-sizing: border-box;margin-bottom: 0.5em;}#sk-container-id-5 div.sk-estimator:hover {background-color: #d4ebff;}#sk-container-id-5 div.sk-parallel-item::after {content: \"\";width: 100%;border-bottom: 1px solid gray;flex-grow: 1;}#sk-container-id-5 div.sk-label:hover label.sk-toggleable__label {background-color: #d4ebff;}#sk-container-id-5 div.sk-serial::before {content: \"\";position: absolute;border-left: 1px solid gray;box-sizing: border-box;top: 0;bottom: 0;left: 50%;z-index: 0;}#sk-container-id-5 div.sk-serial {display: flex;flex-direction: column;align-items: center;background-color: white;padding-right: 0.2em;padding-left: 0.2em;position: relative;}#sk-container-id-5 div.sk-item {position: relative;z-index: 1;}#sk-container-id-5 div.sk-parallel {display: flex;align-items: stretch;justify-content: center;background-color: white;position: relative;}#sk-container-id-5 div.sk-item::before, #sk-container-id-5 div.sk-parallel-item::before {content: \"\";position: absolute;border-left: 1px solid gray;box-sizing: border-box;top: 0;bottom: 0;left: 50%;z-index: -1;}#sk-container-id-5 div.sk-parallel-item {display: flex;flex-direction: column;z-index: 1;position: relative;background-color: white;}#sk-container-id-5 div.sk-parallel-item:first-child::after {align-self: flex-end;width: 50%;}#sk-container-id-5 div.sk-parallel-item:last-child::after {align-self: flex-start;width: 50%;}#sk-container-id-5 div.sk-parallel-item:only-child::after {width: 0;}#sk-container-id-5 div.sk-dashed-wrapped {border: 1px dashed gray;margin: 0 0.4em 0.5em 0.4em;box-sizing: border-box;padding-bottom: 0.4em;background-color: white;}#sk-container-id-5 div.sk-label label {font-family: monospace;font-weight: bold;display: inline-block;line-height: 1.2em;}#sk-container-id-5 div.sk-label-container {text-align: center;}#sk-container-id-5 div.sk-container {/* jupyter's `normalize.less` sets `[hidden] { display: none; }` but bootstrap.min.css set `[hidden] { display: none !important; }` so we also need the `!important` here to be able to override the default hidden behavior on the sphinx rendered scikit-learn.org. See: https://github.com/scikit-learn/scikit-learn/issues/21755 */display: inline-block !important;position: relative;}#sk-container-id-5 div.sk-text-repr-fallback {display: none;}</style><div id=\"sk-container-id-5\" class=\"sk-top-container\"><div class=\"sk-text-repr-fallback\"><pre>LogisticRegression(max_iter=1000, multi_class=&#x27;multinomial&#x27;, penalty=None)</pre><b>In a Jupyter environment, please rerun this cell to show the HTML representation or trust the notebook. <br />On GitHub, the HTML representation is unable to render, please try loading this page with nbviewer.org.</b></div><div class=\"sk-container\" hidden><div class=\"sk-item\"><div class=\"sk-estimator sk-toggleable\"><input class=\"sk-toggleable__control sk-hidden--visually\" id=\"sk-estimator-id-5\" type=\"checkbox\" checked><label for=\"sk-estimator-id-5\" class=\"sk-toggleable__label sk-toggleable__label-arrow\">LogisticRegression</label><div class=\"sk-toggleable__content\"><pre>LogisticRegression(max_iter=1000, multi_class=&#x27;multinomial&#x27;, penalty=None)</pre></div></div></div></div></div>"
      ],
      "text/plain": [
       "LogisticRegression(max_iter=1000, multi_class='multinomial', penalty=None)"
      ]
     },
     "execution_count": 175,
     "metadata": {},
     "output_type": "execute_result"
    }
   ],
   "source": [
    "mlogit_fit_3b = LogisticRegression(penalty = None,fit_intercept = True, multi_class='multinomial', max_iter=1000)\n",
    "\n",
    "mlogit_fit_3b.fit(X_3a, y_3a)\n"
   ]
  },
  {
   "cell_type": "markdown",
   "id": "c430dd66-b606-40fd-abae-a24c19ef96f8",
   "metadata": {},
   "source": [
    "### Task 3c)\n",
    "\n",
    "We now skip the entire data splitting step that we discussed in Part 1. Instead, we say that model `mlogit_fit_3b` is our result of the entire modeling process and it is implemented in practice. We now get new test data for which we obtain output predictions. To prepare this, conduct the following steps:\n",
    "\n",
    "1. Load *drug_test.RDS* as object `drug_data_test`.\n",
    "2. Create an input variable matrix `X_3c_test` in the same way as in Task 3a, but using `drug_data_test` instead of `drug_data`."
   ]
  },
  {
   "cell_type": "code",
   "execution_count": 176,
   "id": "333d2f7d-b881-42f2-a9d5-090762b3f50a",
   "metadata": {},
   "outputs": [],
   "source": [
    "drug_data_test = prdr.read_r('drug_test.RDS')\n",
    "drug_data_test = drug_data_test[None]\n",
    "\n",
    "X_3c_test = pd.get_dummies(drug_data_test.drop(columns = ['drugs.usage']))"
   ]
  },
  {
   "cell_type": "markdown",
   "id": "865f1abd-e837-4994-bd43-a3d696534fb3",
   "metadata": {},
   "source": [
    "### Task 3d)\n",
    "\n",
    "Get predictions from model `mlogit_fit_3b` for your test data using the `predict_proba()` and `predict()` methods. Save your predictions as `mlogit_prob_3c` and `mlogit_pred_3c`, respectively.\n"
   ]
  },
  {
   "cell_type": "code",
   "execution_count": 177,
   "id": "b95ef853-029d-4121-ae35-a576c33a219b",
   "metadata": {},
   "outputs": [],
   "source": [
    "mlogit_prob_3c = mlogit_fit_3b.predict_proba(X_3c_test)\n",
    "mlogit_pred_3c = mlogit_fit_3b.predict(X_3c_test)"
   ]
  },
  {
   "cell_type": "markdown",
   "id": "461fcdca-e2af-426c-b9fe-c7b266f9a02b",
   "metadata": {},
   "source": [
    "As time passes, you also observe outputs for your first batch of test data. This allows you to evaluate the accuracy of your prediction model during deployment. The variable *drugs.usage* in `drug.data.test` contains these test outputs. Extract them into a vector `ytest_3d`.\n",
    "\n",
    "Then, use the `confusion_matrix` function in sklearn to get a confusion matrix. Save it as `confumat_3d`.\n"
   ]
  },
  {
   "cell_type": "code",
   "execution_count": 178,
   "id": "be1acef3-5c16-49bd-aa10-0064c0ee2be7",
   "metadata": {},
   "outputs": [
    {
     "data": {
      "text/html": [
       "<div>\n",
       "<style scoped>\n",
       "    .dataframe tbody tr th:only-of-type {\n",
       "        vertical-align: middle;\n",
       "    }\n",
       "\n",
       "    .dataframe tbody tr th {\n",
       "        vertical-align: top;\n",
       "    }\n",
       "\n",
       "    .dataframe thead th {\n",
       "        text-align: right;\n",
       "    }\n",
       "</style>\n",
       "<table border=\"1\" class=\"dataframe\">\n",
       "  <thead>\n",
       "    <tr style=\"text-align: right;\">\n",
       "      <th></th>\n",
       "      <th>more than a year ago</th>\n",
       "      <th>never used</th>\n",
       "      <th>within a year</th>\n",
       "    </tr>\n",
       "  </thead>\n",
       "  <tbody>\n",
       "    <tr>\n",
       "      <th>more than a year ago</th>\n",
       "      <td>131</td>\n",
       "      <td>50</td>\n",
       "      <td>17</td>\n",
       "    </tr>\n",
       "    <tr>\n",
       "      <th>never used</th>\n",
       "      <td>43</td>\n",
       "      <td>186</td>\n",
       "      <td>22</td>\n",
       "    </tr>\n",
       "    <tr>\n",
       "      <th>within a year</th>\n",
       "      <td>34</td>\n",
       "      <td>48</td>\n",
       "      <td>34</td>\n",
       "    </tr>\n",
       "  </tbody>\n",
       "</table>\n",
       "</div>"
      ],
      "text/plain": [
       "                      more than a year ago  never used  within a year\n",
       "more than a year ago                   131          50             17\n",
       "never used                              43         186             22\n",
       "within a year                           34          48             34"
      ]
     },
     "execution_count": 178,
     "metadata": {},
     "output_type": "execute_result"
    }
   ],
   "source": [
    "ytest_3d    = drug_data_test['drugs.usage']\n",
    "confumat_3d = confusion_matrix(ytest_3d, mlogit_pred_3c)\n",
    "\n",
    "class_names = sorted(ytest_3d.unique())  \n",
    "\n",
    "confumat_df = pd.DataFrame(confumat_3d, columns=class_names, index=class_names)\n",
    "\n",
    "confumat_df"
   ]
  },
  {
   "cell_type": "code",
   "execution_count": 12,
   "id": "b0b795bb",
   "metadata": {},
   "outputs": [
    {
     "name": "stdout",
     "output_type": "stream",
     "text": [
      "Coordinates along the direction vector: [2.21034343 4.42068686 4.18154055]\n",
      "Reconstructed x1: [1.27614237 2.55228475 2.41421356]\n",
      "Reconstructed x2: [1.80473785 3.60947571 3.41421356]\n"
     ]
    }
   ],
   "source": [
    "import numpy as np\n",
    "\n",
    "# Direction vector\n",
    "direction = np.array([np.sqrt(1/3), np.sqrt(2/3)])\n",
    "\n",
    "# Datapoints\n",
    "x1 = np.array([1, 2, 3])\n",
    "x2 = np.array([2, 4, 3])\n",
    "\n",
    "# Calculating the coordinates\n",
    "coordinates = np.dot(np.vstack((x1, x2)).T, direction)\n",
    "\n",
    "# Conversion to the position on the chosen direction in terms of the original variables x_1 and x_2\n",
    "reconstructed_x1 = coordinates * direction[0]\n",
    "reconstructed_x2 = coordinates * direction[1]\n",
    "\n",
    "print(\"Coordinates along the direction vector:\", coordinates)\n",
    "print(\"Reconstructed x1:\", reconstructed_x1)\n",
    "print(\"Reconstructed x2:\", reconstructed_x2)\n",
    "\n"
   ]
  }
 ],
 "metadata": {
  "kernelspec": {
   "display_name": "Python 3 (Spyder)",
   "language": "python3",
   "name": "python3"
  },
  "language_info": {
   "codemirror_mode": {
    "name": "ipython",
    "version": 3
   },
   "file_extension": ".py",
   "mimetype": "text/x-python",
   "name": "python",
   "nbconvert_exporter": "python",
   "pygments_lexer": "ipython3",
   "version": "3.10.9"
  }
 },
 "nbformat": 4,
 "nbformat_minor": 5
}
